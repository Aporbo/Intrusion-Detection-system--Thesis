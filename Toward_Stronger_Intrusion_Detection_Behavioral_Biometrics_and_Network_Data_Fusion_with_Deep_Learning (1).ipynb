{
  "nbformat": 4,
  "nbformat_minor": 0,
  "metadata": {
    "colab": {
      "provenance": []
    },
    "kernelspec": {
      "name": "python3",
      "display_name": "Python 3"
    },
    "language_info": {
      "name": "python"
    }
  },
  "cells": [
    {
      "cell_type": "markdown",
      "source": [
        "# Behavioral Model"
      ],
      "metadata": {
        "id": "D9esS-Yd5RuV"
      }
    },
    {
      "cell_type": "markdown",
      "source": [
        "##Mount Drive and Imports"
      ],
      "metadata": {
        "id": "mK0a8lFZ8zap"
      }
    },
    {
      "cell_type": "code",
      "execution_count": 1,
      "metadata": {
        "colab": {
          "base_uri": "https://localhost:8080/"
        },
        "id": "ertTcbn68uwN",
        "outputId": "9082d02e-7deb-4a39-d95e-205e13c32f30"
      },
      "outputs": [
        {
          "output_type": "stream",
          "name": "stdout",
          "text": [
            "Mounted at /content/drive\n"
          ]
        }
      ],
      "source": [
        "from google.colab import drive\n",
        "drive.mount('/content/drive')\n",
        "\n",
        "import os\n",
        "import numpy as np\n",
        "import pandas as pd\n",
        "import matplotlib.pyplot as plt\n",
        "from sklearn.preprocessing import MinMaxScaler\n",
        "from sklearn.metrics import precision_score, recall_score, f1_score, roc_auc_score\n",
        "import tensorflow as tf\n",
        "from tensorflow.keras.models import Model\n",
        "from tensorflow.keras.layers import Input, LSTM, RepeatVector, TimeDistributed, Dense\n",
        "from tensorflow.keras.optimizers import Adam\n"
      ]
    },
    {
      "cell_type": "markdown",
      "source": [
        "## Load Dataset"
      ],
      "metadata": {
        "id": "UvjB7VXE81_Z"
      }
    },
    {
      "cell_type": "code",
      "source": [
        "\n",
        "base_path = '/content/drive/MyDrive/ISOT_Web_Interactions(Mouse_Keystroke_SiteAction)_Dataset'\n",
        "\n",
        "data_types = ['Keystrokes', 'MouseActions', 'SiteActions']\n",
        "labels = ['genuine', 'attack']\n",
        "\n",
        "dataset = {dtype: {label: [] for label in labels} for dtype in data_types}\n",
        "\n",
        "for data_type in data_types:\n",
        "    for label in labels:\n",
        "        folder = os.path.join(base_path, data_type, label)\n",
        "        for file in os.listdir(folder):\n",
        "            if file.endswith('.txt'):\n",
        "                path = os.path.join(folder, file)\n",
        "                try:\n",
        "                    if data_type == 'SiteActions':\n",
        "                        df = pd.read_csv(path, sep='\\t', header=0, engine='python')\n",
        "                    else:\n",
        "                        df = pd.read_csv(path, delimiter=r'\\s+', header=None, engine='python')\n",
        "                    df['source_file'] = file\n",
        "                    df['label'] = label\n",
        "                    dataset[data_type][label].append(df)\n",
        "                except Exception as e:\n",
        "                    print(f\"Error reading {file}: {e}\")\n"
      ],
      "metadata": {
        "id": "0mdQDE_g83VX"
      },
      "execution_count": 2,
      "outputs": []
    },
    {
      "cell_type": "markdown",
      "source": [
        "## Clean Data"
      ],
      "metadata": {
        "id": "DQyrKW4187t3"
      }
    },
    {
      "cell_type": "code",
      "source": [
        "def clean_keystrokes(df):\n",
        "    if df is None:\n",
        "        return None\n",
        "    try:\n",
        "        if df.shape[1] == 6:\n",
        "            df.columns = ['User', 'KeyDownTimeStamp', 'KeyReleaseTimeStamp', 'SessionID', 'source_file', 'label']\n",
        "            df['Type'] = 'Keystroke'\n",
        "        elif df.shape[1] == 7:\n",
        "            df.columns = ['User', 'KeyDownTimeStamp', 'KeyReleaseTimeStamp', 'SessionID', 'source_file', 'label', 'Type']\n",
        "        else:\n",
        "            print(f\"Unexpected keystroke file shape: {df.shape}\")\n",
        "            return None\n",
        "\n",
        "        df = df[df['User'] != 'User']\n",
        "        df = df.reset_index(drop=True)\n",
        "        df['KeyDownTimeStamp'] = df['KeyDownTimeStamp'].astype(int)\n",
        "        df['KeyReleaseTimeStamp'] = df['KeyReleaseTimeStamp'].astype(int)\n",
        "        return df\n",
        "    except Exception as e:\n",
        "        print(f\"Cleaning keystroke error: {e}\")\n",
        "        return None\n",
        "\n",
        "\n",
        "def clean_mouseactions(df):\n",
        "    if df is None:\n",
        "        return None\n",
        "    try:\n",
        "        if df.shape[1] == 9:\n",
        "            df.columns = ['User', 'X', 'Y', 'MouseTimeStamp', 'MouseDownTimeStamp', 'MouseUpTimeStamp', 'SessionID', 'source_file', 'label']\n",
        "            df['Type'] = 'Mouse'\n",
        "        elif df.shape[1] == 10:\n",
        "            df.columns = ['User', 'X', 'Y', 'MouseTimeStamp', 'MouseDownTimeStamp', 'MouseUpTimeStamp', 'SessionID', 'source_file', 'label', 'Type']\n",
        "        else:\n",
        "            print(f\"Unexpected mouse file shape: {df.shape}\")\n",
        "            return None\n",
        "\n",
        "        df = df[df['User'] != 'User']\n",
        "        df = df.reset_index(drop=True)\n",
        "        df['X'] = df['X'].astype(int)\n",
        "        df['Y'] = df['Y'].astype(int)\n",
        "        df['MouseTimeStamp'] = df['MouseTimeStamp'].astype(int)\n",
        "        df['MouseDownTimeStamp'] = df['MouseDownTimeStamp'].astype(int)\n",
        "        df['MouseUpTimeStamp'] = df['MouseUpTimeStamp'].astype(int)\n",
        "        return df\n",
        "    except Exception as e:\n",
        "        print(f\"Cleaning mouseaction error: {e}\")\n",
        "        return None\n",
        "\n",
        "\n",
        "def clean_siteactions(df):\n",
        "    df = df.reset_index(drop=True)\n",
        "    df['Time'] = pd.to_datetime(df['Time'], errors='coerce')\n",
        "    df = df.dropna(subset=['Time'])\n",
        "    return df\n",
        "keystrokes_genuine = pd.concat(dataset['Keystrokes']['genuine'], ignore_index=True)\n",
        "keystrokes_attack = pd.concat(dataset['Keystrokes']['attack'], ignore_index=True)\n",
        "\n",
        "mouse_genuine = pd.concat(dataset['MouseActions']['genuine'], ignore_index=True)\n",
        "mouse_attack = pd.concat(dataset['MouseActions']['attack'], ignore_index=True)\n",
        "\n",
        "site_genuine = pd.concat(dataset['SiteActions']['genuine'], ignore_index=True)\n",
        "site_attack = pd.concat(dataset['SiteActions']['attack'], ignore_index=True)\n",
        "\n",
        "keystrokes_genuine = clean_keystrokes(keystrokes_genuine)\n",
        "keystrokes_attack = clean_keystrokes(keystrokes_attack)\n",
        "\n",
        "mouse_genuine = clean_mouseactions(mouse_genuine)\n",
        "mouse_attack = clean_mouseactions(mouse_attack)\n",
        "\n",
        "site_genuine = clean_siteactions(site_genuine)\n",
        "site_attack = clean_siteactions(site_attack)\n",
        "\n",
        "print(\"All data cleaned!\")\n"
      ],
      "metadata": {
        "colab": {
          "base_uri": "https://localhost:8080/"
        },
        "id": "PVr2XI2w886r",
        "outputId": "cd069894-79e9-4d91-ef1f-3c6d5dbec007"
      },
      "execution_count": 3,
      "outputs": [
        {
          "output_type": "stream",
          "name": "stdout",
          "text": [
            "All data cleaned!\n"
          ]
        },
        {
          "output_type": "stream",
          "name": "stderr",
          "text": [
            "<ipython-input-3-dd8194c3ddf9>:52: UserWarning: Could not infer format, so each element will be parsed individually, falling back to `dateutil`. To ensure parsing is consistent and as-expected, please specify a format.\n",
            "  df['Time'] = pd.to_datetime(df['Time'], errors='coerce')\n",
            "<ipython-input-3-dd8194c3ddf9>:52: UserWarning: Could not infer format, so each element will be parsed individually, falling back to `dateutil`. To ensure parsing is consistent and as-expected, please specify a format.\n",
            "  df['Time'] = pd.to_datetime(df['Time'], errors='coerce')\n"
          ]
        }
      ]
    },
    {
      "cell_type": "markdown",
      "source": [
        "## Group Sessions"
      ],
      "metadata": {
        "id": "IPicn44Q8_fD"
      }
    },
    {
      "cell_type": "code",
      "source": [
        "genuine_sessions = {}\n",
        "attack_sessions = {}\n",
        "\n",
        "for sid, group in keystrokes_genuine.groupby('SessionID'):\n",
        "    genuine_sessions[sid] = {'keystroke': group, 'mouse': None, 'site': None}\n",
        "for sid, group in mouse_genuine.groupby('SessionID'):\n",
        "    genuine_sessions.setdefault(sid, {'keystroke': None, 'mouse': None, 'site': None})['mouse'] = group\n",
        "for sid, group in site_genuine.groupby('SessionID'):\n",
        "    genuine_sessions.setdefault(sid, {'keystroke': None, 'mouse': None, 'site': None})['site'] = group\n",
        "\n",
        "for sid, group in keystrokes_attack.groupby('SessionID'):\n",
        "    attack_sessions[sid] = {'keystroke': group, 'mouse': None, 'site': None}\n",
        "for sid, group in mouse_attack.groupby('SessionID'):\n",
        "    attack_sessions.setdefault(sid, {'keystroke': None, 'mouse': None, 'site': None})['mouse'] = group\n",
        "for sid, group in site_attack.groupby('SessionID'):\n",
        "    attack_sessions.setdefault(sid, {'keystroke': None, 'mouse': None, 'site': None})['site'] = group\n",
        "\n",
        "print(\"Sessions grouped!\")\n"
      ],
      "metadata": {
        "colab": {
          "base_uri": "https://localhost:8080/"
        },
        "id": "BA9cdBmB9Arj",
        "outputId": "788611f6-654c-4920-91d8-d0cfa6da419e"
      },
      "execution_count": 4,
      "outputs": [
        {
          "output_type": "stream",
          "name": "stdout",
          "text": [
            "Sessions grouped!\n"
          ]
        }
      ]
    },
    {
      "cell_type": "markdown",
      "source": [
        "### Prepare Sequential Features"
      ],
      "metadata": {
        "id": "6D4XNxdT9CoL"
      }
    },
    {
      "cell_type": "code",
      "source": [
        "from tensorflow.keras.preprocessing.sequence import pad_sequences\n",
        "\n",
        "def prepare_session_sequences_fixed(genuine_sessions, attack_sessions, max_session_length=200):\n",
        "    X_seq, y_seq = [], []\n",
        "\n",
        "    def build_sequence(data):\n",
        "        sequence = []\n",
        "        if data['keystroke'] is not None and not data['keystroke'].empty:\n",
        "            ks = data['keystroke'].sort_values('KeyDownTimeStamp')\n",
        "            ht = ks['KeyReleaseTimeStamp'] - ks['KeyDownTimeStamp']\n",
        "            idelays = ks['KeyDownTimeStamp'].diff().fillna(0)\n",
        "            for h, d in zip(ht, idelays):\n",
        "                sequence.append([float(h), float(d), 0.0, 0.0])\n",
        "        if data['mouse'] is not None and not data['mouse'].empty:\n",
        "            ms = data['mouse'].sort_values('MouseTimeStamp')\n",
        "            dx = np.diff(ms['X'], prepend=ms['X'].iloc[0])\n",
        "            dy = np.diff(ms['Y'], prepend=ms['Y'].iloc[0])\n",
        "            t = np.diff(ms['MouseTimeStamp'], prepend=ms['MouseTimeStamp'].iloc[0])\n",
        "            for dxi, dyi, ti in zip(dx, dy, t):\n",
        "                speed = np.sqrt(dxi**2 + dyi**2) / (ti + 1)\n",
        "                sequence.append([float(dxi), float(dyi), float(speed), 0.0])\n",
        "        if data['site'] is not None and not data['site'].empty:\n",
        "            site = data['site'].sort_values('Time')\n",
        "            tdeltas = site['Time'].diff().dt.total_seconds().fillna(0)\n",
        "            aids = site['Action'].astype('category').cat.codes\n",
        "            for aid, td in zip(aids, tdeltas):\n",
        "                sequence.append([float(aid), float(td), 0.0, 0.0])\n",
        "        return np.array(sequence)\n",
        "\n",
        "    for sid, data in genuine_sessions.items():\n",
        "        seq = build_sequence(data)\n",
        "        X_seq.append(seq)\n",
        "        y_seq.append(0)\n",
        "    for sid, data in attack_sessions.items():\n",
        "        seq = build_sequence(data)\n",
        "        X_seq.append(seq)\n",
        "        y_seq.append(1)\n",
        "\n",
        "    X_seq_padded = pad_sequences(X_seq, maxlen=max_session_length, padding='post', dtype='float32')\n",
        "    return np.array(X_seq_padded), np.array(y_seq)\n",
        "\n",
        "X_seq, y_seq = prepare_session_sequences_fixed(genuine_sessions, attack_sessions)\n",
        "print(\"Sequential Data Prepared!\")\n"
      ],
      "metadata": {
        "colab": {
          "base_uri": "https://localhost:8080/"
        },
        "id": "aj_nRVUI9D8J",
        "outputId": "d9704d87-de91-49af-9576-be22ccd31485"
      },
      "execution_count": 5,
      "outputs": [
        {
          "output_type": "stream",
          "name": "stdout",
          "text": [
            "Sequential Data Prepared!\n"
          ]
        }
      ]
    },
    {
      "cell_type": "markdown",
      "source": [
        "## Scale Features"
      ],
      "metadata": {
        "id": "-cym30sO9F8h"
      }
    },
    {
      "cell_type": "code",
      "source": [
        "scaler = MinMaxScaler()\n",
        "X_seq_scaled = scaler.fit_transform(X_seq.reshape(-1, X_seq.shape[2])).reshape(X_seq.shape)\n"
      ],
      "metadata": {
        "id": "LOb_Py4V9HYD"
      },
      "execution_count": 6,
      "outputs": []
    },
    {
      "cell_type": "markdown",
      "source": [
        "## DEEP LSTM"
      ],
      "metadata": {
        "id": "wfIWgzNF9PVl"
      }
    },
    {
      "cell_type": "code",
      "source": [
        "from tensorflow.keras.models import Model\n",
        "from tensorflow.keras.layers import Input, LSTM, RepeatVector, TimeDistributed, Dense\n",
        "from tensorflow.keras.optimizers import Adam\n",
        "\n",
        "timesteps = X_seq_scaled.shape[1]\n",
        "features = X_seq_scaled.shape[2]\n",
        "\n",
        "inputs = Input(shape=(timesteps, features))\n",
        "\n",
        "x = LSTM(128, activation='relu', return_sequences=True)(inputs)\n",
        "x = LSTM(64, activation='relu', return_sequences=True)(x)\n",
        "x = LSTM(32, activation='relu', return_sequences=False)(x)\n",
        "\n",
        "encoded = RepeatVector(timesteps)(x)\n",
        "\n",
        "x = LSTM(32, activation='relu', return_sequences=True)(encoded)\n",
        "x = LSTM(64, activation='relu', return_sequences=True)(x)\n",
        "x = LSTM(128, activation='relu', return_sequences=True)(x)\n",
        "\n",
        "outputs = TimeDistributed(Dense(features))(x)\n",
        "\n",
        "deep_lstm_autoencoder = Model(inputs, outputs)\n",
        "\n",
        "deep_lstm_autoencoder.compile(optimizer=Adam(0.0005), loss='mse')\n",
        "\n",
        "deep_lstm_autoencoder.summary()\n"
      ],
      "metadata": {
        "colab": {
          "base_uri": "https://localhost:8080/",
          "height": 459
        },
        "id": "WMIrN_jm9SV2",
        "outputId": "0d726d78-f71c-442c-eabf-ded9a8dbfce2"
      },
      "execution_count": 7,
      "outputs": [
        {
          "output_type": "display_data",
          "data": {
            "text/plain": [
              "\u001b[1mModel: \"functional\"\u001b[0m\n"
            ],
            "text/html": [
              "<pre style=\"white-space:pre;overflow-x:auto;line-height:normal;font-family:Menlo,'DejaVu Sans Mono',consolas,'Courier New',monospace\"><span style=\"font-weight: bold\">Model: \"functional\"</span>\n",
              "</pre>\n"
            ]
          },
          "metadata": {}
        },
        {
          "output_type": "display_data",
          "data": {
            "text/plain": [
              "┏━━━━━━━━━━━━━━━━━━━━━━━━━━━━━━━━━┳━━━━━━━━━━━━━━━━━━━━━━━━┳━━━━━━━━━━━━━━━┓\n",
              "┃\u001b[1m \u001b[0m\u001b[1mLayer (type)                   \u001b[0m\u001b[1m \u001b[0m┃\u001b[1m \u001b[0m\u001b[1mOutput Shape          \u001b[0m\u001b[1m \u001b[0m┃\u001b[1m \u001b[0m\u001b[1m      Param #\u001b[0m\u001b[1m \u001b[0m┃\n",
              "┡━━━━━━━━━━━━━━━━━━━━━━━━━━━━━━━━━╇━━━━━━━━━━━━━━━━━━━━━━━━╇━━━━━━━━━━━━━━━┩\n",
              "│ input_layer (\u001b[38;5;33mInputLayer\u001b[0m)        │ (\u001b[38;5;45mNone\u001b[0m, \u001b[38;5;34m200\u001b[0m, \u001b[38;5;34m4\u001b[0m)         │             \u001b[38;5;34m0\u001b[0m │\n",
              "├─────────────────────────────────┼────────────────────────┼───────────────┤\n",
              "│ lstm (\u001b[38;5;33mLSTM\u001b[0m)                     │ (\u001b[38;5;45mNone\u001b[0m, \u001b[38;5;34m200\u001b[0m, \u001b[38;5;34m128\u001b[0m)       │        \u001b[38;5;34m68,096\u001b[0m │\n",
              "├─────────────────────────────────┼────────────────────────┼───────────────┤\n",
              "│ lstm_1 (\u001b[38;5;33mLSTM\u001b[0m)                   │ (\u001b[38;5;45mNone\u001b[0m, \u001b[38;5;34m200\u001b[0m, \u001b[38;5;34m64\u001b[0m)        │        \u001b[38;5;34m49,408\u001b[0m │\n",
              "├─────────────────────────────────┼────────────────────────┼───────────────┤\n",
              "│ lstm_2 (\u001b[38;5;33mLSTM\u001b[0m)                   │ (\u001b[38;5;45mNone\u001b[0m, \u001b[38;5;34m32\u001b[0m)             │        \u001b[38;5;34m12,416\u001b[0m │\n",
              "├─────────────────────────────────┼────────────────────────┼───────────────┤\n",
              "│ repeat_vector (\u001b[38;5;33mRepeatVector\u001b[0m)    │ (\u001b[38;5;45mNone\u001b[0m, \u001b[38;5;34m200\u001b[0m, \u001b[38;5;34m32\u001b[0m)        │             \u001b[38;5;34m0\u001b[0m │\n",
              "├─────────────────────────────────┼────────────────────────┼───────────────┤\n",
              "│ lstm_3 (\u001b[38;5;33mLSTM\u001b[0m)                   │ (\u001b[38;5;45mNone\u001b[0m, \u001b[38;5;34m200\u001b[0m, \u001b[38;5;34m32\u001b[0m)        │         \u001b[38;5;34m8,320\u001b[0m │\n",
              "├─────────────────────────────────┼────────────────────────┼───────────────┤\n",
              "│ lstm_4 (\u001b[38;5;33mLSTM\u001b[0m)                   │ (\u001b[38;5;45mNone\u001b[0m, \u001b[38;5;34m200\u001b[0m, \u001b[38;5;34m64\u001b[0m)        │        \u001b[38;5;34m24,832\u001b[0m │\n",
              "├─────────────────────────────────┼────────────────────────┼───────────────┤\n",
              "│ lstm_5 (\u001b[38;5;33mLSTM\u001b[0m)                   │ (\u001b[38;5;45mNone\u001b[0m, \u001b[38;5;34m200\u001b[0m, \u001b[38;5;34m128\u001b[0m)       │        \u001b[38;5;34m98,816\u001b[0m │\n",
              "├─────────────────────────────────┼────────────────────────┼───────────────┤\n",
              "│ time_distributed                │ (\u001b[38;5;45mNone\u001b[0m, \u001b[38;5;34m200\u001b[0m, \u001b[38;5;34m4\u001b[0m)         │           \u001b[38;5;34m516\u001b[0m │\n",
              "│ (\u001b[38;5;33mTimeDistributed\u001b[0m)               │                        │               │\n",
              "└─────────────────────────────────┴────────────────────────┴───────────────┘\n"
            ],
            "text/html": [
              "<pre style=\"white-space:pre;overflow-x:auto;line-height:normal;font-family:Menlo,'DejaVu Sans Mono',consolas,'Courier New',monospace\">┏━━━━━━━━━━━━━━━━━━━━━━━━━━━━━━━━━┳━━━━━━━━━━━━━━━━━━━━━━━━┳━━━━━━━━━━━━━━━┓\n",
              "┃<span style=\"font-weight: bold\"> Layer (type)                    </span>┃<span style=\"font-weight: bold\"> Output Shape           </span>┃<span style=\"font-weight: bold\">       Param # </span>┃\n",
              "┡━━━━━━━━━━━━━━━━━━━━━━━━━━━━━━━━━╇━━━━━━━━━━━━━━━━━━━━━━━━╇━━━━━━━━━━━━━━━┩\n",
              "│ input_layer (<span style=\"color: #0087ff; text-decoration-color: #0087ff\">InputLayer</span>)        │ (<span style=\"color: #00d7ff; text-decoration-color: #00d7ff\">None</span>, <span style=\"color: #00af00; text-decoration-color: #00af00\">200</span>, <span style=\"color: #00af00; text-decoration-color: #00af00\">4</span>)         │             <span style=\"color: #00af00; text-decoration-color: #00af00\">0</span> │\n",
              "├─────────────────────────────────┼────────────────────────┼───────────────┤\n",
              "│ lstm (<span style=\"color: #0087ff; text-decoration-color: #0087ff\">LSTM</span>)                     │ (<span style=\"color: #00d7ff; text-decoration-color: #00d7ff\">None</span>, <span style=\"color: #00af00; text-decoration-color: #00af00\">200</span>, <span style=\"color: #00af00; text-decoration-color: #00af00\">128</span>)       │        <span style=\"color: #00af00; text-decoration-color: #00af00\">68,096</span> │\n",
              "├─────────────────────────────────┼────────────────────────┼───────────────┤\n",
              "│ lstm_1 (<span style=\"color: #0087ff; text-decoration-color: #0087ff\">LSTM</span>)                   │ (<span style=\"color: #00d7ff; text-decoration-color: #00d7ff\">None</span>, <span style=\"color: #00af00; text-decoration-color: #00af00\">200</span>, <span style=\"color: #00af00; text-decoration-color: #00af00\">64</span>)        │        <span style=\"color: #00af00; text-decoration-color: #00af00\">49,408</span> │\n",
              "├─────────────────────────────────┼────────────────────────┼───────────────┤\n",
              "│ lstm_2 (<span style=\"color: #0087ff; text-decoration-color: #0087ff\">LSTM</span>)                   │ (<span style=\"color: #00d7ff; text-decoration-color: #00d7ff\">None</span>, <span style=\"color: #00af00; text-decoration-color: #00af00\">32</span>)             │        <span style=\"color: #00af00; text-decoration-color: #00af00\">12,416</span> │\n",
              "├─────────────────────────────────┼────────────────────────┼───────────────┤\n",
              "│ repeat_vector (<span style=\"color: #0087ff; text-decoration-color: #0087ff\">RepeatVector</span>)    │ (<span style=\"color: #00d7ff; text-decoration-color: #00d7ff\">None</span>, <span style=\"color: #00af00; text-decoration-color: #00af00\">200</span>, <span style=\"color: #00af00; text-decoration-color: #00af00\">32</span>)        │             <span style=\"color: #00af00; text-decoration-color: #00af00\">0</span> │\n",
              "├─────────────────────────────────┼────────────────────────┼───────────────┤\n",
              "│ lstm_3 (<span style=\"color: #0087ff; text-decoration-color: #0087ff\">LSTM</span>)                   │ (<span style=\"color: #00d7ff; text-decoration-color: #00d7ff\">None</span>, <span style=\"color: #00af00; text-decoration-color: #00af00\">200</span>, <span style=\"color: #00af00; text-decoration-color: #00af00\">32</span>)        │         <span style=\"color: #00af00; text-decoration-color: #00af00\">8,320</span> │\n",
              "├─────────────────────────────────┼────────────────────────┼───────────────┤\n",
              "│ lstm_4 (<span style=\"color: #0087ff; text-decoration-color: #0087ff\">LSTM</span>)                   │ (<span style=\"color: #00d7ff; text-decoration-color: #00d7ff\">None</span>, <span style=\"color: #00af00; text-decoration-color: #00af00\">200</span>, <span style=\"color: #00af00; text-decoration-color: #00af00\">64</span>)        │        <span style=\"color: #00af00; text-decoration-color: #00af00\">24,832</span> │\n",
              "├─────────────────────────────────┼────────────────────────┼───────────────┤\n",
              "│ lstm_5 (<span style=\"color: #0087ff; text-decoration-color: #0087ff\">LSTM</span>)                   │ (<span style=\"color: #00d7ff; text-decoration-color: #00d7ff\">None</span>, <span style=\"color: #00af00; text-decoration-color: #00af00\">200</span>, <span style=\"color: #00af00; text-decoration-color: #00af00\">128</span>)       │        <span style=\"color: #00af00; text-decoration-color: #00af00\">98,816</span> │\n",
              "├─────────────────────────────────┼────────────────────────┼───────────────┤\n",
              "│ time_distributed                │ (<span style=\"color: #00d7ff; text-decoration-color: #00d7ff\">None</span>, <span style=\"color: #00af00; text-decoration-color: #00af00\">200</span>, <span style=\"color: #00af00; text-decoration-color: #00af00\">4</span>)         │           <span style=\"color: #00af00; text-decoration-color: #00af00\">516</span> │\n",
              "│ (<span style=\"color: #0087ff; text-decoration-color: #0087ff\">TimeDistributed</span>)               │                        │               │\n",
              "└─────────────────────────────────┴────────────────────────┴───────────────┘\n",
              "</pre>\n"
            ]
          },
          "metadata": {}
        },
        {
          "output_type": "display_data",
          "data": {
            "text/plain": [
              "\u001b[1m Total params: \u001b[0m\u001b[38;5;34m262,404\u001b[0m (1.00 MB)\n"
            ],
            "text/html": [
              "<pre style=\"white-space:pre;overflow-x:auto;line-height:normal;font-family:Menlo,'DejaVu Sans Mono',consolas,'Courier New',monospace\"><span style=\"font-weight: bold\"> Total params: </span><span style=\"color: #00af00; text-decoration-color: #00af00\">262,404</span> (1.00 MB)\n",
              "</pre>\n"
            ]
          },
          "metadata": {}
        },
        {
          "output_type": "display_data",
          "data": {
            "text/plain": [
              "\u001b[1m Trainable params: \u001b[0m\u001b[38;5;34m262,404\u001b[0m (1.00 MB)\n"
            ],
            "text/html": [
              "<pre style=\"white-space:pre;overflow-x:auto;line-height:normal;font-family:Menlo,'DejaVu Sans Mono',consolas,'Courier New',monospace\"><span style=\"font-weight: bold\"> Trainable params: </span><span style=\"color: #00af00; text-decoration-color: #00af00\">262,404</span> (1.00 MB)\n",
              "</pre>\n"
            ]
          },
          "metadata": {}
        },
        {
          "output_type": "display_data",
          "data": {
            "text/plain": [
              "\u001b[1m Non-trainable params: \u001b[0m\u001b[38;5;34m0\u001b[0m (0.00 B)\n"
            ],
            "text/html": [
              "<pre style=\"white-space:pre;overflow-x:auto;line-height:normal;font-family:Menlo,'DejaVu Sans Mono',consolas,'Courier New',monospace\"><span style=\"font-weight: bold\"> Non-trainable params: </span><span style=\"color: #00af00; text-decoration-color: #00af00\">0</span> (0.00 B)\n",
              "</pre>\n"
            ]
          },
          "metadata": {}
        }
      ]
    },
    {
      "cell_type": "code",
      "source": [
        "X_train = X_seq_scaled[y_seq == 0]  # Only genuine\n",
        "X_test = X_seq_scaled[y_seq == 1]  # Only attacks\n",
        "y_test = y_seq[y_seq == 1]\n",
        "\n",
        "history = deep_lstm_autoencoder.fit(\n",
        "    X_train, X_train,\n",
        "    epochs=150,\n",
        "    batch_size=32,\n",
        "    validation_split=0.1,\n",
        "    shuffle=True,\n",
        "    verbose=1\n",
        ")\n"
      ],
      "metadata": {
        "colab": {
          "base_uri": "https://localhost:8080/"
        },
        "id": "FepRMof79UO1",
        "outputId": "15815042-8132-43bd-fdd7-0fca76f1a4a2"
      },
      "execution_count": 8,
      "outputs": [
        {
          "output_type": "stream",
          "name": "stdout",
          "text": [
            "Epoch 1/150\n",
            "\u001b[1m6/6\u001b[0m \u001b[32m━━━━━━━━━━━━━━━━━━━━\u001b[0m\u001b[37m\u001b[0m \u001b[1m30s\u001b[0m 2s/step - loss: 0.0766 - val_loss: 0.0703\n",
            "Epoch 2/150\n",
            "\u001b[1m6/6\u001b[0m \u001b[32m━━━━━━━━━━━━━━━━━━━━\u001b[0m\u001b[37m\u001b[0m \u001b[1m18s\u001b[0m 1s/step - loss: 0.0675 - val_loss: 0.0553\n",
            "Epoch 3/150\n",
            "\u001b[1m6/6\u001b[0m \u001b[32m━━━━━━━━━━━━━━━━━━━━\u001b[0m\u001b[37m\u001b[0m \u001b[1m8s\u001b[0m 948ms/step - loss: 0.0493 - val_loss: 0.0210\n",
            "Epoch 4/150\n",
            "\u001b[1m6/6\u001b[0m \u001b[32m━━━━━━━━━━━━━━━━━━━━\u001b[0m\u001b[37m\u001b[0m \u001b[1m10s\u001b[0m 940ms/step - loss: 0.0163 - val_loss: 0.0067\n",
            "Epoch 5/150\n",
            "\u001b[1m6/6\u001b[0m \u001b[32m━━━━━━━━━━━━━━━━━━━━\u001b[0m\u001b[37m\u001b[0m \u001b[1m7s\u001b[0m 1s/step - loss: 0.0063 - val_loss: 0.0061\n",
            "Epoch 6/150\n",
            "\u001b[1m6/6\u001b[0m \u001b[32m━━━━━━━━━━━━━━━━━━━━\u001b[0m\u001b[37m\u001b[0m \u001b[1m9s\u001b[0m 954ms/step - loss: 0.0051 - val_loss: 0.0032\n",
            "Epoch 7/150\n",
            "\u001b[1m6/6\u001b[0m \u001b[32m━━━━━━━━━━━━━━━━━━━━\u001b[0m\u001b[37m\u001b[0m \u001b[1m10s\u001b[0m 958ms/step - loss: 0.0036 - val_loss: 0.0030\n",
            "Epoch 8/150\n",
            "\u001b[1m6/6\u001b[0m \u001b[32m━━━━━━━━━━━━━━━━━━━━\u001b[0m\u001b[37m\u001b[0m \u001b[1m10s\u001b[0m 966ms/step - loss: 0.0030 - val_loss: 0.0030\n",
            "Epoch 9/150\n",
            "\u001b[1m6/6\u001b[0m \u001b[32m━━━━━━━━━━━━━━━━━━━━\u001b[0m\u001b[37m\u001b[0m \u001b[1m12s\u001b[0m 1s/step - loss: 0.0028 - val_loss: 0.0027\n",
            "Epoch 10/150\n",
            "\u001b[1m6/6\u001b[0m \u001b[32m━━━━━━━━━━━━━━━━━━━━\u001b[0m\u001b[37m\u001b[0m \u001b[1m9s\u001b[0m 1s/step - loss: 0.0026 - val_loss: 0.0025\n",
            "Epoch 11/150\n",
            "\u001b[1m6/6\u001b[0m \u001b[32m━━━━━━━━━━━━━━━━━━━━\u001b[0m\u001b[37m\u001b[0m \u001b[1m9s\u001b[0m 955ms/step - loss: 0.0025 - val_loss: 0.0023\n",
            "Epoch 12/150\n",
            "\u001b[1m6/6\u001b[0m \u001b[32m━━━━━━━━━━━━━━━━━━━━\u001b[0m\u001b[37m\u001b[0m \u001b[1m7s\u001b[0m 1s/step - loss: 0.0024 - val_loss: 0.0023\n",
            "Epoch 13/150\n",
            "\u001b[1m6/6\u001b[0m \u001b[32m━━━━━━━━━━━━━━━━━━━━\u001b[0m\u001b[37m\u001b[0m \u001b[1m9s\u001b[0m 1s/step - loss: 0.0023 - val_loss: 0.0022\n",
            "Epoch 14/150\n",
            "\u001b[1m6/6\u001b[0m \u001b[32m━━━━━━━━━━━━━━━━━━━━\u001b[0m\u001b[37m\u001b[0m \u001b[1m7s\u001b[0m 1s/step - loss: 0.0022 - val_loss: 0.0021\n",
            "Epoch 15/150\n",
            "\u001b[1m6/6\u001b[0m \u001b[32m━━━━━━━━━━━━━━━━━━━━\u001b[0m\u001b[37m\u001b[0m \u001b[1m10s\u001b[0m 1s/step - loss: 0.0021 - val_loss: 0.0020\n",
            "Epoch 16/150\n",
            "\u001b[1m6/6\u001b[0m \u001b[32m━━━━━━━━━━━━━━━━━━━━\u001b[0m\u001b[37m\u001b[0m \u001b[1m9s\u001b[0m 953ms/step - loss: 0.0020 - val_loss: 0.0019\n",
            "Epoch 17/150\n",
            "\u001b[1m6/6\u001b[0m \u001b[32m━━━━━━━━━━━━━━━━━━━━\u001b[0m\u001b[37m\u001b[0m \u001b[1m10s\u001b[0m 952ms/step - loss: 0.0019 - val_loss: 0.0018\n",
            "Epoch 18/150\n",
            "\u001b[1m6/6\u001b[0m \u001b[32m━━━━━━━━━━━━━━━━━━━━\u001b[0m\u001b[37m\u001b[0m \u001b[1m11s\u001b[0m 948ms/step - loss: 0.0018 - val_loss: 0.0017\n",
            "Epoch 19/150\n",
            "\u001b[1m6/6\u001b[0m \u001b[32m━━━━━━━━━━━━━━━━━━━━\u001b[0m\u001b[37m\u001b[0m \u001b[1m11s\u001b[0m 1s/step - loss: 0.0017 - val_loss: 0.0016\n",
            "Epoch 20/150\n",
            "\u001b[1m6/6\u001b[0m \u001b[32m━━━━━━━━━━━━━━━━━━━━\u001b[0m\u001b[37m\u001b[0m \u001b[1m9s\u001b[0m 1s/step - loss: 0.0016 - val_loss: 0.0015\n",
            "Epoch 21/150\n",
            "\u001b[1m6/6\u001b[0m \u001b[32m━━━━━━━━━━━━━━━━━━━━\u001b[0m\u001b[37m\u001b[0m \u001b[1m7s\u001b[0m 1s/step - loss: 0.0016 - val_loss: 0.0015\n",
            "Epoch 22/150\n",
            "\u001b[1m6/6\u001b[0m \u001b[32m━━━━━━━━━━━━━━━━━━━━\u001b[0m\u001b[37m\u001b[0m \u001b[1m6s\u001b[0m 961ms/step - loss: 0.0015 - val_loss: 0.0014\n",
            "Epoch 23/150\n",
            "\u001b[1m6/6\u001b[0m \u001b[32m━━━━━━━━━━━━━━━━━━━━\u001b[0m\u001b[37m\u001b[0m \u001b[1m10s\u001b[0m 946ms/step - loss: 0.0015 - val_loss: 0.0014\n",
            "Epoch 24/150\n",
            "\u001b[1m6/6\u001b[0m \u001b[32m━━━━━━━━━━━━━━━━━━━━\u001b[0m\u001b[37m\u001b[0m \u001b[1m11s\u001b[0m 1s/step - loss: 0.0014 - val_loss: 0.0013\n",
            "Epoch 25/150\n",
            "\u001b[1m6/6\u001b[0m \u001b[32m━━━━━━━━━━━━━━━━━━━━\u001b[0m\u001b[37m\u001b[0m \u001b[1m13s\u001b[0m 1s/step - loss: 0.0014 - val_loss: 0.0013\n",
            "Epoch 26/150\n",
            "\u001b[1m6/6\u001b[0m \u001b[32m━━━━━━━━━━━━━━━━━━━━\u001b[0m\u001b[37m\u001b[0m \u001b[1m8s\u001b[0m 1s/step - loss: 0.0013 - val_loss: 0.0012\n",
            "Epoch 27/150\n",
            "\u001b[1m6/6\u001b[0m \u001b[32m━━━━━━━━━━━━━━━━━━━━\u001b[0m\u001b[37m\u001b[0m \u001b[1m7s\u001b[0m 1s/step - loss: 0.0012 - val_loss: 0.0012\n",
            "Epoch 28/150\n",
            "\u001b[1m6/6\u001b[0m \u001b[32m━━━━━━━━━━━━━━━━━━━━\u001b[0m\u001b[37m\u001b[0m \u001b[1m11s\u001b[0m 1s/step - loss: 0.0012 - val_loss: 0.0011\n",
            "Epoch 29/150\n",
            "\u001b[1m6/6\u001b[0m \u001b[32m━━━━━━━━━━━━━━━━━━━━\u001b[0m\u001b[37m\u001b[0m \u001b[1m6s\u001b[0m 927ms/step - loss: 0.0011 - val_loss: 0.0011\n",
            "Epoch 30/150\n",
            "\u001b[1m6/6\u001b[0m \u001b[32m━━━━━━━━━━━━━━━━━━━━\u001b[0m\u001b[37m\u001b[0m \u001b[1m7s\u001b[0m 1s/step - loss: 0.0011 - val_loss: 0.0011\n",
            "Epoch 31/150\n",
            "\u001b[1m6/6\u001b[0m \u001b[32m━━━━━━━━━━━━━━━━━━━━\u001b[0m\u001b[37m\u001b[0m \u001b[1m9s\u001b[0m 959ms/step - loss: 0.0011 - val_loss: 0.0010\n",
            "Epoch 32/150\n",
            "\u001b[1m6/6\u001b[0m \u001b[32m━━━━━━━━━━━━━━━━━━━━\u001b[0m\u001b[37m\u001b[0m \u001b[1m7s\u001b[0m 1s/step - loss: 0.0011 - val_loss: 9.8159e-04\n",
            "Epoch 33/150\n",
            "\u001b[1m6/6\u001b[0m \u001b[32m━━━━━━━━━━━━━━━━━━━━\u001b[0m\u001b[37m\u001b[0m \u001b[1m6s\u001b[0m 964ms/step - loss: 9.9636e-04 - val_loss: 9.4848e-04\n",
            "Epoch 34/150\n",
            "\u001b[1m6/6\u001b[0m \u001b[32m━━━━━━━━━━━━━━━━━━━━\u001b[0m\u001b[37m\u001b[0m \u001b[1m10s\u001b[0m 970ms/step - loss: 9.9789e-04 - val_loss: 9.1698e-04\n",
            "Epoch 35/150\n",
            "\u001b[1m6/6\u001b[0m \u001b[32m━━━━━━━━━━━━━━━━━━━━\u001b[0m\u001b[37m\u001b[0m \u001b[1m7s\u001b[0m 1s/step - loss: 9.5748e-04 - val_loss: 8.8934e-04\n",
            "Epoch 36/150\n",
            "\u001b[1m6/6\u001b[0m \u001b[32m━━━━━━━━━━━━━━━━━━━━\u001b[0m\u001b[37m\u001b[0m \u001b[1m9s\u001b[0m 937ms/step - loss: 9.4690e-04 - val_loss: 8.5823e-04\n",
            "Epoch 37/150\n",
            "\u001b[1m6/6\u001b[0m \u001b[32m━━━━━━━━━━━━━━━━━━━━\u001b[0m\u001b[37m\u001b[0m \u001b[1m10s\u001b[0m 974ms/step - loss: 8.8798e-04 - val_loss: 8.3048e-04\n",
            "Epoch 38/150\n",
            "\u001b[1m6/6\u001b[0m \u001b[32m━━━━━━━━━━━━━━━━━━━━\u001b[0m\u001b[37m\u001b[0m \u001b[1m11s\u001b[0m 1s/step - loss: 8.8184e-04 - val_loss: 8.0333e-04\n",
            "Epoch 39/150\n",
            "\u001b[1m6/6\u001b[0m \u001b[32m━━━━━━━━━━━━━━━━━━━━\u001b[0m\u001b[37m\u001b[0m \u001b[1m6s\u001b[0m 1s/step - loss: 8.3525e-04 - val_loss: 7.7642e-04\n",
            "Epoch 40/150\n",
            "\u001b[1m6/6\u001b[0m \u001b[32m━━━━━━━━━━━━━━━━━━━━\u001b[0m\u001b[37m\u001b[0m \u001b[1m10s\u001b[0m 1000ms/step - loss: 8.1326e-04 - val_loss: 7.4926e-04\n",
            "Epoch 41/150\n",
            "\u001b[1m6/6\u001b[0m \u001b[32m━━━━━━━━━━━━━━━━━━━━\u001b[0m\u001b[37m\u001b[0m \u001b[1m10s\u001b[0m 985ms/step - loss: 7.9743e-04 - val_loss: 7.2440e-04\n",
            "Epoch 42/150\n",
            "\u001b[1m6/6\u001b[0m \u001b[32m━━━━━━━━━━━━━━━━━━━━\u001b[0m\u001b[37m\u001b[0m \u001b[1m11s\u001b[0m 1s/step - loss: 7.6235e-04 - val_loss: 6.9845e-04\n",
            "Epoch 43/150\n",
            "\u001b[1m6/6\u001b[0m \u001b[32m━━━━━━━━━━━━━━━━━━━━\u001b[0m\u001b[37m\u001b[0m \u001b[1m6s\u001b[0m 969ms/step - loss: 7.3313e-04 - val_loss: 6.7468e-04\n",
            "Epoch 44/150\n",
            "\u001b[1m6/6\u001b[0m \u001b[32m━━━━━━━━━━━━━━━━━━━━\u001b[0m\u001b[37m\u001b[0m \u001b[1m7s\u001b[0m 1s/step - loss: 7.0040e-04 - val_loss: 6.5242e-04\n",
            "Epoch 45/150\n",
            "\u001b[1m6/6\u001b[0m \u001b[32m━━━━━━━━━━━━━━━━━━━━\u001b[0m\u001b[37m\u001b[0m \u001b[1m11s\u001b[0m 1s/step - loss: 6.7060e-04 - val_loss: 6.2846e-04\n",
            "Epoch 46/150\n",
            "\u001b[1m6/6\u001b[0m \u001b[32m━━━━━━━━━━━━━━━━━━━━\u001b[0m\u001b[37m\u001b[0m \u001b[1m8s\u001b[0m 991ms/step - loss: 6.6050e-04 - val_loss: 6.0486e-04\n",
            "Epoch 47/150\n",
            "\u001b[1m6/6\u001b[0m \u001b[32m━━━━━━━━━━━━━━━━━━━━\u001b[0m\u001b[37m\u001b[0m \u001b[1m12s\u001b[0m 1s/step - loss: 6.4404e-04 - val_loss: 5.8389e-04\n",
            "Epoch 48/150\n",
            "\u001b[1m6/6\u001b[0m \u001b[32m━━━━━━━━━━━━━━━━━━━━\u001b[0m\u001b[37m\u001b[0m \u001b[1m9s\u001b[0m 1s/step - loss: 6.3620e-04 - val_loss: 5.6711e-04\n",
            "Epoch 49/150\n",
            "\u001b[1m6/6\u001b[0m \u001b[32m━━━━━━━━━━━━━━━━━━━━\u001b[0m\u001b[37m\u001b[0m \u001b[1m11s\u001b[0m 1s/step - loss: 5.8626e-04 - val_loss: 5.4653e-04\n",
            "Epoch 50/150\n",
            "\u001b[1m6/6\u001b[0m \u001b[32m━━━━━━━━━━━━━━━━━━━━\u001b[0m\u001b[37m\u001b[0m \u001b[1m6s\u001b[0m 985ms/step - loss: 5.8017e-04 - val_loss: 5.2317e-04\n",
            "Epoch 51/150\n",
            "\u001b[1m6/6\u001b[0m \u001b[32m━━━━━━━━━━━━━━━━━━━━\u001b[0m\u001b[37m\u001b[0m \u001b[1m7s\u001b[0m 1s/step - loss: 5.6815e-04 - val_loss: 5.0897e-04\n",
            "Epoch 52/150\n",
            "\u001b[1m6/6\u001b[0m \u001b[32m━━━━━━━━━━━━━━━━━━━━\u001b[0m\u001b[37m\u001b[0m \u001b[1m6s\u001b[0m 988ms/step - loss: 5.6599e-04 - val_loss: 4.8776e-04\n",
            "Epoch 53/150\n",
            "\u001b[1m6/6\u001b[0m \u001b[32m━━━━━━━━━━━━━━━━━━━━\u001b[0m\u001b[37m\u001b[0m \u001b[1m10s\u001b[0m 953ms/step - loss: 5.4648e-04 - val_loss: 4.7332e-04\n",
            "Epoch 54/150\n",
            "\u001b[1m6/6\u001b[0m \u001b[32m━━━━━━━━━━━━━━━━━━━━\u001b[0m\u001b[37m\u001b[0m \u001b[1m11s\u001b[0m 1s/step - loss: 5.1429e-04 - val_loss: 4.6212e-04\n",
            "Epoch 55/150\n",
            "\u001b[1m6/6\u001b[0m \u001b[32m━━━━━━━━━━━━━━━━━━━━\u001b[0m\u001b[37m\u001b[0m \u001b[1m6s\u001b[0m 986ms/step - loss: 4.8188e-04 - val_loss: 4.3809e-04\n",
            "Epoch 56/150\n",
            "\u001b[1m6/6\u001b[0m \u001b[32m━━━━━━━━━━━━━━━━━━━━\u001b[0m\u001b[37m\u001b[0m \u001b[1m10s\u001b[0m 976ms/step - loss: 4.6451e-04 - val_loss: 4.2609e-04\n",
            "Epoch 57/150\n",
            "\u001b[1m6/6\u001b[0m \u001b[32m━━━━━━━━━━━━━━━━━━━━\u001b[0m\u001b[37m\u001b[0m \u001b[1m11s\u001b[0m 1s/step - loss: 4.5394e-04 - val_loss: 4.1177e-04\n",
            "Epoch 58/150\n",
            "\u001b[1m6/6\u001b[0m \u001b[32m━━━━━━━━━━━━━━━━━━━━\u001b[0m\u001b[37m\u001b[0m \u001b[1m11s\u001b[0m 1s/step - loss: 4.6294e-04 - val_loss: 4.0102e-04\n",
            "Epoch 59/150\n",
            "\u001b[1m6/6\u001b[0m \u001b[32m━━━━━━━━━━━━━━━━━━━━\u001b[0m\u001b[37m\u001b[0m \u001b[1m9s\u001b[0m 1s/step - loss: 4.4140e-04 - val_loss: 3.8511e-04\n",
            "Epoch 60/150\n",
            "\u001b[1m6/6\u001b[0m \u001b[32m━━━━━━━━━━━━━━━━━━━━\u001b[0m\u001b[37m\u001b[0m \u001b[1m10s\u001b[0m 972ms/step - loss: 4.1655e-04 - val_loss: 3.7182e-04\n",
            "Epoch 61/150\n",
            "\u001b[1m6/6\u001b[0m \u001b[32m━━━━━━━━━━━━━━━━━━━━\u001b[0m\u001b[37m\u001b[0m \u001b[1m7s\u001b[0m 1s/step - loss: 4.4337e-04 - val_loss: 3.5796e-04\n",
            "Epoch 62/150\n",
            "\u001b[1m6/6\u001b[0m \u001b[32m━━━━━━━━━━━━━━━━━━━━\u001b[0m\u001b[37m\u001b[0m \u001b[1m9s\u001b[0m 1s/step - loss: 3.9117e-04 - val_loss: 3.5561e-04\n",
            "Epoch 63/150\n",
            "\u001b[1m6/6\u001b[0m \u001b[32m━━━━━━━━━━━━━━━━━━━━\u001b[0m\u001b[37m\u001b[0m \u001b[1m10s\u001b[0m 982ms/step - loss: 3.8880e-04 - val_loss: 3.3465e-04\n",
            "Epoch 64/150\n",
            "\u001b[1m6/6\u001b[0m \u001b[32m━━━━━━━━━━━━━━━━━━━━\u001b[0m\u001b[37m\u001b[0m \u001b[1m10s\u001b[0m 990ms/step - loss: 3.7493e-04 - val_loss: 3.3553e-04\n",
            "Epoch 65/150\n",
            "\u001b[1m6/6\u001b[0m \u001b[32m━━━━━━━━━━━━━━━━━━━━\u001b[0m\u001b[37m\u001b[0m \u001b[1m7s\u001b[0m 1s/step - loss: 3.7258e-04 - val_loss: 3.0762e-04\n",
            "Epoch 66/150\n",
            "\u001b[1m6/6\u001b[0m \u001b[32m━━━━━━━━━━━━━━━━━━━━\u001b[0m\u001b[37m\u001b[0m \u001b[1m9s\u001b[0m 981ms/step - loss: 3.6277e-04 - val_loss: 3.0470e-04\n",
            "Epoch 67/150\n",
            "\u001b[1m6/6\u001b[0m \u001b[32m━━━━━━━━━━━━━━━━━━━━\u001b[0m\u001b[37m\u001b[0m \u001b[1m10s\u001b[0m 963ms/step - loss: 3.3958e-04 - val_loss: 2.9253e-04\n",
            "Epoch 68/150\n",
            "\u001b[1m6/6\u001b[0m \u001b[32m━━━━━━━━━━━━━━━━━━━━\u001b[0m\u001b[37m\u001b[0m \u001b[1m11s\u001b[0m 990ms/step - loss: 3.2946e-04 - val_loss: 2.7283e-04\n",
            "Epoch 69/150\n",
            "\u001b[1m6/6\u001b[0m \u001b[32m━━━━━━━━━━━━━━━━━━━━\u001b[0m\u001b[37m\u001b[0m \u001b[1m11s\u001b[0m 1s/step - loss: 3.1835e-04 - val_loss: 2.5877e-04\n",
            "Epoch 70/150\n",
            "\u001b[1m6/6\u001b[0m \u001b[32m━━━━━━━━━━━━━━━━━━━━\u001b[0m\u001b[37m\u001b[0m \u001b[1m9s\u001b[0m 1s/step - loss: 3.2952e-04 - val_loss: 3.6132e-04\n",
            "Epoch 71/150\n",
            "\u001b[1m6/6\u001b[0m \u001b[32m━━━━━━━━━━━━━━━━━━━━\u001b[0m\u001b[37m\u001b[0m \u001b[1m7s\u001b[0m 1s/step - loss: 4.0869e-04 - val_loss: 2.6658e-04\n",
            "Epoch 72/150\n",
            "\u001b[1m6/6\u001b[0m \u001b[32m━━━━━━━━━━━━━━━━━━━━\u001b[0m\u001b[37m\u001b[0m \u001b[1m11s\u001b[0m 1s/step - loss: 3.1062e-04 - val_loss: 2.6530e-04\n",
            "Epoch 73/150\n",
            "\u001b[1m6/6\u001b[0m \u001b[32m━━━━━━━━━━━━━━━━━━━━\u001b[0m\u001b[37m\u001b[0m \u001b[1m6s\u001b[0m 977ms/step - loss: 2.9443e-04 - val_loss: 2.4946e-04\n",
            "Epoch 74/150\n",
            "\u001b[1m6/6\u001b[0m \u001b[32m━━━━━━━━━━━━━━━━━━━━\u001b[0m\u001b[37m\u001b[0m \u001b[1m10s\u001b[0m 970ms/step - loss: 2.8031e-04 - val_loss: 2.2141e-04\n",
            "Epoch 75/150\n",
            "\u001b[1m6/6\u001b[0m \u001b[32m━━━━━━━━━━━━━━━━━━━━\u001b[0m\u001b[37m\u001b[0m \u001b[1m11s\u001b[0m 1s/step - loss: 2.7317e-04 - val_loss: 2.0454e-04\n",
            "Epoch 76/150\n",
            "\u001b[1m6/6\u001b[0m \u001b[32m━━━━━━━━━━━━━━━━━━━━\u001b[0m\u001b[37m\u001b[0m \u001b[1m6s\u001b[0m 970ms/step - loss: 2.5724e-04 - val_loss: 1.9886e-04\n",
            "Epoch 77/150\n",
            "\u001b[1m6/6\u001b[0m \u001b[32m━━━━━━━━━━━━━━━━━━━━\u001b[0m\u001b[37m\u001b[0m \u001b[1m10s\u001b[0m 981ms/step - loss: 2.2817e-04 - val_loss: 1.8608e-04\n",
            "Epoch 78/150\n",
            "\u001b[1m6/6\u001b[0m \u001b[32m━━━━━━━━━━━━━━━━━━━━\u001b[0m\u001b[37m\u001b[0m \u001b[1m11s\u001b[0m 980ms/step - loss: 2.3873e-04 - val_loss: 1.7167e-04\n",
            "Epoch 79/150\n",
            "\u001b[1m6/6\u001b[0m \u001b[32m━━━━━━━━━━━━━━━━━━━━\u001b[0m\u001b[37m\u001b[0m \u001b[1m11s\u001b[0m 1s/step - loss: 1.9285e-04 - val_loss: 1.5791e-04\n",
            "Epoch 80/150\n",
            "\u001b[1m6/6\u001b[0m \u001b[32m━━━━━━━━━━━━━━━━━━━━\u001b[0m\u001b[37m\u001b[0m \u001b[1m6s\u001b[0m 937ms/step - loss: 2.4977e-04 - val_loss: 1.7846e-04\n",
            "Epoch 81/150\n",
            "\u001b[1m6/6\u001b[0m \u001b[32m━━━━━━━━━━━━━━━━━━━━\u001b[0m\u001b[37m\u001b[0m \u001b[1m11s\u001b[0m 980ms/step - loss: 2.6093e-04 - val_loss: 1.8376e-04\n",
            "Epoch 82/150\n",
            "\u001b[1m6/6\u001b[0m \u001b[32m━━━━━━━━━━━━━━━━━━━━\u001b[0m\u001b[37m\u001b[0m \u001b[1m7s\u001b[0m 1s/step - loss: 2.1381e-04 - val_loss: 1.9190e-04\n",
            "Epoch 83/150\n",
            "\u001b[1m6/6\u001b[0m \u001b[32m━━━━━━━━━━━━━━━━━━━━\u001b[0m\u001b[37m\u001b[0m \u001b[1m10s\u001b[0m 968ms/step - loss: 2.1196e-04 - val_loss: 1.5571e-04\n",
            "Epoch 84/150\n",
            "\u001b[1m6/6\u001b[0m \u001b[32m━━━━━━━━━━━━━━━━━━━━\u001b[0m\u001b[37m\u001b[0m \u001b[1m10s\u001b[0m 984ms/step - loss: 1.9468e-04 - val_loss: 1.3668e-04\n",
            "Epoch 85/150\n",
            "\u001b[1m6/6\u001b[0m \u001b[32m━━━━━━━━━━━━━━━━━━━━\u001b[0m\u001b[37m\u001b[0m \u001b[1m11s\u001b[0m 999ms/step - loss: 1.7723e-04 - val_loss: 1.1932e-04\n",
            "Epoch 86/150\n",
            "\u001b[1m6/6\u001b[0m \u001b[32m━━━━━━━━━━━━━━━━━━━━\u001b[0m\u001b[37m\u001b[0m \u001b[1m11s\u001b[0m 1s/step - loss: 1.6800e-04 - val_loss: 1.1024e-04\n",
            "Epoch 87/150\n",
            "\u001b[1m6/6\u001b[0m \u001b[32m━━━━━━━━━━━━━━━━━━━━\u001b[0m\u001b[37m\u001b[0m \u001b[1m9s\u001b[0m 1s/step - loss: 1.6392e-04 - val_loss: 9.9506e-05\n",
            "Epoch 88/150\n",
            "\u001b[1m6/6\u001b[0m \u001b[32m━━━━━━━━━━━━━━━━━━━━\u001b[0m\u001b[37m\u001b[0m \u001b[1m7s\u001b[0m 1s/step - loss: 1.2398e-04 - val_loss: 9.3277e-05\n",
            "Epoch 89/150\n",
            "\u001b[1m6/6\u001b[0m \u001b[32m━━━━━━━━━━━━━━━━━━━━\u001b[0m\u001b[37m\u001b[0m \u001b[1m11s\u001b[0m 1s/step - loss: 1.6932e-04 - val_loss: 1.5341e-04\n",
            "Epoch 90/150\n",
            "\u001b[1m6/6\u001b[0m \u001b[32m━━━━━━━━━━━━━━━━━━━━\u001b[0m\u001b[37m\u001b[0m \u001b[1m9s\u001b[0m 1s/step - loss: 1.9869e-04 - val_loss: 9.6649e-05\n",
            "Epoch 91/150\n",
            "\u001b[1m6/6\u001b[0m \u001b[32m━━━━━━━━━━━━━━━━━━━━\u001b[0m\u001b[37m\u001b[0m \u001b[1m7s\u001b[0m 1s/step - loss: 1.6086e-04 - val_loss: 9.0706e-05\n",
            "Epoch 92/150\n",
            "\u001b[1m6/6\u001b[0m \u001b[32m━━━━━━━━━━━━━━━━━━━━\u001b[0m\u001b[37m\u001b[0m \u001b[1m8s\u001b[0m 1s/step - loss: 1.4843e-04 - val_loss: 1.0242e-04\n",
            "Epoch 93/150\n",
            "\u001b[1m6/6\u001b[0m \u001b[32m━━━━━━━━━━━━━━━━━━━━\u001b[0m\u001b[37m\u001b[0m \u001b[1m10s\u001b[0m 1s/step - loss: 1.3681e-04 - val_loss: 8.4869e-05\n",
            "Epoch 94/150\n",
            "\u001b[1m6/6\u001b[0m \u001b[32m━━━━━━━━━━━━━━━━━━━━\u001b[0m\u001b[37m\u001b[0m \u001b[1m10s\u001b[0m 1s/step - loss: 1.2882e-04 - val_loss: 7.6824e-05\n",
            "Epoch 95/150\n",
            "\u001b[1m6/6\u001b[0m \u001b[32m━━━━━━━━━━━━━━━━━━━━\u001b[0m\u001b[37m\u001b[0m \u001b[1m10s\u001b[0m 1s/step - loss: 1.1950e-04 - val_loss: 1.1296e-04\n",
            "Epoch 96/150\n",
            "\u001b[1m6/6\u001b[0m \u001b[32m━━━━━━━━━━━━━━━━━━━━\u001b[0m\u001b[37m\u001b[0m \u001b[1m9s\u001b[0m 966ms/step - loss: 1.7425e-04 - val_loss: 9.5106e-05\n",
            "Epoch 97/150\n",
            "\u001b[1m6/6\u001b[0m \u001b[32m━━━━━━━━━━━━━━━━━━━━\u001b[0m\u001b[37m\u001b[0m \u001b[1m10s\u001b[0m 982ms/step - loss: 1.4943e-04 - val_loss: 8.0669e-05\n",
            "Epoch 98/150\n",
            "\u001b[1m6/6\u001b[0m \u001b[32m━━━━━━━━━━━━━━━━━━━━\u001b[0m\u001b[37m\u001b[0m \u001b[1m11s\u001b[0m 1s/step - loss: 1.3721e-04 - val_loss: 1.1533e-04\n",
            "Epoch 99/150\n",
            "\u001b[1m6/6\u001b[0m \u001b[32m━━━━━━━━━━━━━━━━━━━━\u001b[0m\u001b[37m\u001b[0m \u001b[1m11s\u001b[0m 1s/step - loss: 1.4394e-04 - val_loss: 6.5316e-05\n",
            "Epoch 100/150\n",
            "\u001b[1m6/6\u001b[0m \u001b[32m━━━━━━━━━━━━━━━━━━━━\u001b[0m\u001b[37m\u001b[0m \u001b[1m6s\u001b[0m 995ms/step - loss: 1.0742e-04 - val_loss: 6.1506e-05\n",
            "Epoch 101/150\n",
            "\u001b[1m6/6\u001b[0m \u001b[32m━━━━━━━━━━━━━━━━━━━━\u001b[0m\u001b[37m\u001b[0m \u001b[1m10s\u001b[0m 954ms/step - loss: 1.0048e-04 - val_loss: 5.8776e-05\n",
            "Epoch 102/150\n",
            "\u001b[1m6/6\u001b[0m \u001b[32m━━━━━━━━━━━━━━━━━━━━\u001b[0m\u001b[37m\u001b[0m \u001b[1m11s\u001b[0m 1s/step - loss: 1.0586e-04 - val_loss: 6.1233e-05\n",
            "Epoch 103/150\n",
            "\u001b[1m6/6\u001b[0m \u001b[32m━━━━━━━━━━━━━━━━━━━━\u001b[0m\u001b[37m\u001b[0m \u001b[1m6s\u001b[0m 973ms/step - loss: 1.0423e-04 - val_loss: 4.9904e-05\n",
            "Epoch 104/150\n",
            "\u001b[1m6/6\u001b[0m \u001b[32m━━━━━━━━━━━━━━━━━━━━\u001b[0m\u001b[37m\u001b[0m \u001b[1m7s\u001b[0m 1s/step - loss: 9.0116e-05 - val_loss: 4.2798e-05\n",
            "Epoch 105/150\n",
            "\u001b[1m6/6\u001b[0m \u001b[32m━━━━━━━━━━━━━━━━━━━━\u001b[0m\u001b[37m\u001b[0m \u001b[1m9s\u001b[0m 1s/step - loss: 8.8493e-05 - val_loss: 5.2502e-05\n",
            "Epoch 106/150\n",
            "\u001b[1m6/6\u001b[0m \u001b[32m━━━━━━━━━━━━━━━━━━━━\u001b[0m\u001b[37m\u001b[0m \u001b[1m10s\u001b[0m 969ms/step - loss: 8.5232e-05 - val_loss: 4.2344e-05\n",
            "Epoch 107/150\n",
            "\u001b[1m6/6\u001b[0m \u001b[32m━━━━━━━━━━━━━━━━━━━━\u001b[0m\u001b[37m\u001b[0m \u001b[1m10s\u001b[0m 967ms/step - loss: 8.0602e-05 - val_loss: 4.0343e-05\n",
            "Epoch 108/150\n",
            "\u001b[1m6/6\u001b[0m \u001b[32m━━━━━━━━━━━━━━━━━━━━\u001b[0m\u001b[37m\u001b[0m \u001b[1m11s\u001b[0m 997ms/step - loss: 6.9244e-05 - val_loss: 4.0101e-05\n",
            "Epoch 109/150\n",
            "\u001b[1m6/6\u001b[0m \u001b[32m━━━━━━━━━━━━━━━━━━━━\u001b[0m\u001b[37m\u001b[0m \u001b[1m11s\u001b[0m 1s/step - loss: 9.1636e-05 - val_loss: 3.8728e-05\n",
            "Epoch 110/150\n",
            "\u001b[1m6/6\u001b[0m \u001b[32m━━━━━━━━━━━━━━━━━━━━\u001b[0m\u001b[37m\u001b[0m \u001b[1m6s\u001b[0m 945ms/step - loss: 8.2565e-05 - val_loss: 4.1520e-05\n",
            "Epoch 111/150\n",
            "\u001b[1m6/6\u001b[0m \u001b[32m━━━━━━━━━━━━━━━━━━━━\u001b[0m\u001b[37m\u001b[0m \u001b[1m10s\u001b[0m 938ms/step - loss: 8.4251e-05 - val_loss: 4.1810e-05\n",
            "Epoch 112/150\n",
            "\u001b[1m6/6\u001b[0m \u001b[32m━━━━━━━━━━━━━━━━━━━━\u001b[0m\u001b[37m\u001b[0m \u001b[1m11s\u001b[0m 1s/step - loss: 7.8677e-05 - val_loss: 3.8587e-05\n",
            "Epoch 113/150\n",
            "\u001b[1m6/6\u001b[0m \u001b[32m━━━━━━━━━━━━━━━━━━━━\u001b[0m\u001b[37m\u001b[0m \u001b[1m6s\u001b[0m 978ms/step - loss: 8.9174e-05 - val_loss: 3.7832e-05\n",
            "Epoch 114/150\n",
            "\u001b[1m6/6\u001b[0m \u001b[32m━━━━━━━━━━━━━━━━━━━━\u001b[0m\u001b[37m\u001b[0m \u001b[1m10s\u001b[0m 957ms/step - loss: 8.2000e-05 - val_loss: 3.6628e-05\n",
            "Epoch 115/150\n",
            "\u001b[1m6/6\u001b[0m \u001b[32m━━━━━━━━━━━━━━━━━━━━\u001b[0m\u001b[37m\u001b[0m \u001b[1m11s\u001b[0m 999ms/step - loss: 7.9465e-05 - val_loss: 3.9838e-05\n",
            "Epoch 116/150\n",
            "\u001b[1m6/6\u001b[0m \u001b[32m━━━━━━━━━━━━━━━━━━━━\u001b[0m\u001b[37m\u001b[0m \u001b[1m11s\u001b[0m 1s/step - loss: 7.3588e-05 - val_loss: 3.7121e-05\n",
            "Epoch 117/150\n",
            "\u001b[1m6/6\u001b[0m \u001b[32m━━━━━━━━━━━━━━━━━━━━\u001b[0m\u001b[37m\u001b[0m \u001b[1m6s\u001b[0m 967ms/step - loss: 9.1354e-05 - val_loss: 3.9543e-05\n",
            "Epoch 118/150\n",
            "\u001b[1m6/6\u001b[0m \u001b[32m━━━━━━━━━━━━━━━━━━━━\u001b[0m\u001b[37m\u001b[0m \u001b[1m10s\u001b[0m 969ms/step - loss: 9.9060e-05 - val_loss: 3.9283e-05\n",
            "Epoch 119/150\n",
            "\u001b[1m6/6\u001b[0m \u001b[32m━━━━━━━━━━━━━━━━━━━━\u001b[0m\u001b[37m\u001b[0m \u001b[1m12s\u001b[0m 1s/step - loss: 8.3694e-05 - val_loss: 4.9240e-05\n",
            "Epoch 120/150\n",
            "\u001b[1m6/6\u001b[0m \u001b[32m━━━━━━━━━━━━━━━━━━━━\u001b[0m\u001b[37m\u001b[0m \u001b[1m10s\u001b[0m 1s/step - loss: 8.8272e-05 - val_loss: 4.0876e-05\n",
            "Epoch 121/150\n",
            "\u001b[1m6/6\u001b[0m \u001b[32m━━━━━━━━━━━━━━━━━━━━\u001b[0m\u001b[37m\u001b[0m \u001b[1m9s\u001b[0m 945ms/step - loss: 7.9352e-05 - val_loss: 3.7640e-05\n",
            "Epoch 122/150\n",
            "\u001b[1m6/6\u001b[0m \u001b[32m━━━━━━━━━━━━━━━━━━━━\u001b[0m\u001b[37m\u001b[0m \u001b[1m7s\u001b[0m 1s/step - loss: 8.7668e-05 - val_loss: 4.2773e-05\n",
            "Epoch 123/150\n",
            "\u001b[1m6/6\u001b[0m \u001b[32m━━━━━━━━━━━━━━━━━━━━\u001b[0m\u001b[37m\u001b[0m \u001b[1m10s\u001b[0m 1s/step - loss: 8.2226e-05 - val_loss: 3.9797e-05\n",
            "Epoch 124/150\n",
            "\u001b[1m6/6\u001b[0m \u001b[32m━━━━━━━━━━━━━━━━━━━━\u001b[0m\u001b[37m\u001b[0m \u001b[1m9s\u001b[0m 966ms/step - loss: 8.5398e-05 - val_loss: 3.8012e-05\n",
            "Epoch 125/150\n",
            "\u001b[1m6/6\u001b[0m \u001b[32m━━━━━━━━━━━━━━━━━━━━\u001b[0m\u001b[37m\u001b[0m \u001b[1m7s\u001b[0m 1s/step - loss: 9.2953e-05 - val_loss: 3.7811e-05\n",
            "Epoch 126/150\n",
            "\u001b[1m6/6\u001b[0m \u001b[32m━━━━━━━━━━━━━━━━━━━━\u001b[0m\u001b[37m\u001b[0m \u001b[1m9s\u001b[0m 1s/step - loss: 8.9536e-05 - val_loss: 3.6526e-05\n",
            "Epoch 127/150\n",
            "\u001b[1m6/6\u001b[0m \u001b[32m━━━━━━━━━━━━━━━━━━━━\u001b[0m\u001b[37m\u001b[0m \u001b[1m10s\u001b[0m 969ms/step - loss: 9.5579e-05 - val_loss: 3.5876e-05\n",
            "Epoch 128/150\n",
            "\u001b[1m6/6\u001b[0m \u001b[32m━━━━━━━━━━━━━━━━━━━━\u001b[0m\u001b[37m\u001b[0m \u001b[1m7s\u001b[0m 1s/step - loss: 8.3663e-05 - val_loss: 3.5157e-05\n",
            "Epoch 129/150\n",
            "\u001b[1m6/6\u001b[0m \u001b[32m━━━━━━━━━━━━━━━━━━━━\u001b[0m\u001b[37m\u001b[0m \u001b[1m6s\u001b[0m 980ms/step - loss: 6.9208e-05 - val_loss: 3.6582e-05\n",
            "Epoch 130/150\n",
            "\u001b[1m6/6\u001b[0m \u001b[32m━━━━━━━━━━━━━━━━━━━━\u001b[0m\u001b[37m\u001b[0m \u001b[1m10s\u001b[0m 982ms/step - loss: 7.2684e-05 - val_loss: 4.0423e-05\n",
            "Epoch 131/150\n",
            "\u001b[1m6/6\u001b[0m \u001b[32m━━━━━━━━━━━━━━━━━━━━\u001b[0m\u001b[37m\u001b[0m \u001b[1m12s\u001b[0m 1s/step - loss: 8.1646e-05 - val_loss: 3.5620e-05\n",
            "Epoch 132/150\n",
            "\u001b[1m6/6\u001b[0m \u001b[32m━━━━━━━━━━━━━━━━━━━━\u001b[0m\u001b[37m\u001b[0m \u001b[1m10s\u001b[0m 1s/step - loss: 7.4990e-05 - val_loss: 3.4899e-05\n",
            "Epoch 133/150\n",
            "\u001b[1m6/6\u001b[0m \u001b[32m━━━━━━━━━━━━━━━━━━━━\u001b[0m\u001b[37m\u001b[0m \u001b[1m9s\u001b[0m 984ms/step - loss: 6.9740e-05 - val_loss: 3.5110e-05\n",
            "Epoch 134/150\n",
            "\u001b[1m6/6\u001b[0m \u001b[32m━━━━━━━━━━━━━━━━━━━━\u001b[0m\u001b[37m\u001b[0m \u001b[1m10s\u001b[0m 973ms/step - loss: 8.5073e-05 - val_loss: 3.5735e-05\n",
            "Epoch 135/150\n",
            "\u001b[1m6/6\u001b[0m \u001b[32m━━━━━━━━━━━━━━━━━━━━\u001b[0m\u001b[37m\u001b[0m \u001b[1m7s\u001b[0m 1s/step - loss: 7.1662e-05 - val_loss: 3.9560e-05\n",
            "Epoch 136/150\n",
            "\u001b[1m6/6\u001b[0m \u001b[32m━━━━━━━━━━━━━━━━━━━━\u001b[0m\u001b[37m\u001b[0m \u001b[1m6s\u001b[0m 957ms/step - loss: 8.8103e-05 - val_loss: 3.7167e-05\n",
            "Epoch 137/150\n",
            "\u001b[1m6/6\u001b[0m \u001b[32m━━━━━━━━━━━━━━━━━━━━\u001b[0m\u001b[37m\u001b[0m \u001b[1m11s\u001b[0m 1s/step - loss: 7.6708e-05 - val_loss: 3.9091e-05\n",
            "Epoch 138/150\n",
            "\u001b[1m6/6\u001b[0m \u001b[32m━━━━━━━━━━━━━━━━━━━━\u001b[0m\u001b[37m\u001b[0m \u001b[1m6s\u001b[0m 946ms/step - loss: 8.3603e-05 - val_loss: 3.6040e-05\n",
            "Epoch 139/150\n",
            "\u001b[1m6/6\u001b[0m \u001b[32m━━━━━━━━━━━━━━━━━━━━\u001b[0m\u001b[37m\u001b[0m \u001b[1m10s\u001b[0m 951ms/step - loss: 1.0286e-04 - val_loss: 4.2131e-05\n",
            "Epoch 140/150\n",
            "\u001b[1m6/6\u001b[0m \u001b[32m━━━━━━━━━━━━━━━━━━━━\u001b[0m\u001b[37m\u001b[0m \u001b[1m10s\u001b[0m 987ms/step - loss: 7.0885e-05 - val_loss: 4.5341e-05\n",
            "Epoch 141/150\n",
            "\u001b[1m6/6\u001b[0m \u001b[32m━━━━━━━━━━━━━━━━━━━━\u001b[0m\u001b[37m\u001b[0m \u001b[1m7s\u001b[0m 1s/step - loss: 8.4685e-05 - val_loss: 4.6133e-05\n",
            "Epoch 142/150\n",
            "\u001b[1m6/6\u001b[0m \u001b[32m━━━━━━━━━━━━━━━━━━━━\u001b[0m\u001b[37m\u001b[0m \u001b[1m9s\u001b[0m 948ms/step - loss: 7.4445e-05 - val_loss: 4.1700e-05\n",
            "Epoch 143/150\n",
            "\u001b[1m6/6\u001b[0m \u001b[32m━━━━━━━━━━━━━━━━━━━━\u001b[0m\u001b[37m\u001b[0m \u001b[1m10s\u001b[0m 954ms/step - loss: 7.6333e-05 - val_loss: 3.8027e-05\n",
            "Epoch 144/150\n",
            "\u001b[1m6/6\u001b[0m \u001b[32m━━━━━━━━━━━━━━━━━━━━\u001b[0m\u001b[37m\u001b[0m \u001b[1m11s\u001b[0m 971ms/step - loss: 6.9537e-05 - val_loss: 4.0777e-05\n",
            "Epoch 145/150\n",
            "\u001b[1m6/6\u001b[0m \u001b[32m━━━━━━━━━━━━━━━━━━━━\u001b[0m\u001b[37m\u001b[0m \u001b[1m6s\u001b[0m 1s/step - loss: 7.6224e-05 - val_loss: 3.9369e-05\n",
            "Epoch 146/150\n",
            "\u001b[1m6/6\u001b[0m \u001b[32m━━━━━━━━━━━━━━━━━━━━\u001b[0m\u001b[37m\u001b[0m \u001b[1m7s\u001b[0m 1s/step - loss: 8.1785e-05 - val_loss: 3.6108e-05\n",
            "Epoch 147/150\n",
            "\u001b[1m6/6\u001b[0m \u001b[32m━━━━━━━━━━━━━━━━━━━━\u001b[0m\u001b[37m\u001b[0m \u001b[1m11s\u001b[0m 1s/step - loss: 7.6816e-05 - val_loss: 3.5869e-05\n",
            "Epoch 148/150\n",
            "\u001b[1m6/6\u001b[0m \u001b[32m━━━━━━━━━━━━━━━━━━━━\u001b[0m\u001b[37m\u001b[0m \u001b[1m9s\u001b[0m 996ms/step - loss: 6.9367e-05 - val_loss: 3.6964e-05\n",
            "Epoch 149/150\n",
            "\u001b[1m6/6\u001b[0m \u001b[32m━━━━━━━━━━━━━━━━━━━━\u001b[0m\u001b[37m\u001b[0m \u001b[1m10s\u001b[0m 994ms/step - loss: 7.2884e-05 - val_loss: 3.7155e-05\n",
            "Epoch 150/150\n",
            "\u001b[1m6/6\u001b[0m \u001b[32m━━━━━━━━━━━━━━━━━━━━\u001b[0m\u001b[37m\u001b[0m \u001b[1m10s\u001b[0m 1s/step - loss: 7.0207e-05 - val_loss: 3.7109e-05\n"
          ]
        }
      ]
    },
    {
      "cell_type": "markdown",
      "source": [
        "## Evaluaiton"
      ],
      "metadata": {
        "id": "9JeKNlha9Xcl"
      }
    },
    {
      "cell_type": "code",
      "source": [
        "X_test = X_seq_scaled[y_seq == 1]\n",
        "y_test = y_seq[y_seq == 1]\n",
        "\n",
        "X_pred = deep_lstm_autoencoder.predict(X_test)\n",
        "\n",
        "reconstruction_errors = np.mean(np.square(X_test - X_pred), axis=(1,2))\n",
        "\n",
        "threshold = np.percentile(reconstruction_errors, 10)\n",
        "print(f\"Threshold for anomaly detection: {threshold:.8f}\")\n",
        "\n",
        "y_pred = (reconstruction_errors > threshold).astype(int)\n",
        "\n",
        "from sklearn.metrics import precision_score, recall_score, f1_score, confusion_matrix, classification_report\n",
        "import seaborn as sns\n",
        "import matplotlib.pyplot as plt\n",
        "\n",
        "precision = precision_score(y_test, y_pred)\n",
        "recall = recall_score(y_test, y_pred)\n",
        "f1 = f1_score(y_test, y_pred)\n",
        "\n",
        "print(f\"\\n Deep LSTM Autoencoder (Attack-Only Test) Performance:\")\n",
        "print(f\"Precision: {precision:.4f}\")\n",
        "print(f\"Recall: {recall:.4f}\")\n",
        "print(f\"F1 Score: {f1:.4f}\")\n",
        "\n",
        "cm = confusion_matrix(y_test, y_pred)\n",
        "print(\"\\nConfusion Matrix (Counts):\")\n",
        "print(cm)\n",
        "\n",
        "print(\"\\nClassification Report:\")\n",
        "print(classification_report(y_test, y_pred, digits=4))\n",
        "\n",
        "plt.figure(figsize=(8,5))\n",
        "sns.histplot(reconstruction_errors, bins=50, kde=True)\n",
        "plt.axvline(x=threshold, color='r', linestyle='--', label=f'Threshold: {threshold:.8f}')\n",
        "plt.title('Reconstruction Error Distribution (Deep LSTM, Attack Only)')\n",
        "plt.xlabel('Reconstruction Error')\n",
        "plt.ylabel('Frequency')\n",
        "plt.legend()\n",
        "plt.grid(True)\n",
        "plt.show()\n",
        "\n",
        "plt.figure(figsize=(6,4))\n",
        "sns.heatmap(cm, annot=True, fmt='d', cmap='Blues')\n",
        "plt.title('Confusion Matrix (Deep LSTM, Attack Only)')\n",
        "plt.xlabel('Predicted')\n",
        "plt.ylabel('True')\n",
        "plt.show()\n"
      ],
      "metadata": {
        "colab": {
          "base_uri": "https://localhost:8080/",
          "height": 1000
        },
        "id": "_fIsarhu9YwE",
        "outputId": "d35e35f1-ffe5-450b-da0b-689e52faa5a8"
      },
      "execution_count": 9,
      "outputs": [
        {
          "output_type": "stream",
          "name": "stdout",
          "text": [
            "\u001b[1m4/4\u001b[0m \u001b[32m━━━━━━━━━━━━━━━━━━━━\u001b[0m\u001b[37m\u001b[0m \u001b[1m7s\u001b[0m 1s/step\n",
            "Threshold for anomaly detection: 0.00000638\n",
            "\n",
            " Deep LSTM Autoencoder (Attack-Only Test) Performance:\n",
            "Precision: 1.0000\n",
            "Recall: 0.8990\n",
            "F1 Score: 0.9468\n",
            "\n",
            "Confusion Matrix (Counts):\n",
            "[[ 0  0]\n",
            " [10 89]]\n",
            "\n",
            "Classification Report:\n",
            "              precision    recall  f1-score   support\n",
            "\n",
            "           0     0.0000    0.0000    0.0000         0\n",
            "           1     1.0000    0.8990    0.9468        99\n",
            "\n",
            "    accuracy                         0.8990        99\n",
            "   macro avg     0.5000    0.4495    0.4734        99\n",
            "weighted avg     1.0000    0.8990    0.9468        99\n",
            "\n"
          ]
        },
        {
          "output_type": "stream",
          "name": "stderr",
          "text": [
            "/usr/local/lib/python3.11/dist-packages/sklearn/metrics/_classification.py:1565: UndefinedMetricWarning: Recall is ill-defined and being set to 0.0 in labels with no true samples. Use `zero_division` parameter to control this behavior.\n",
            "  _warn_prf(average, modifier, f\"{metric.capitalize()} is\", len(result))\n",
            "/usr/local/lib/python3.11/dist-packages/sklearn/metrics/_classification.py:1565: UndefinedMetricWarning: Recall is ill-defined and being set to 0.0 in labels with no true samples. Use `zero_division` parameter to control this behavior.\n",
            "  _warn_prf(average, modifier, f\"{metric.capitalize()} is\", len(result))\n",
            "/usr/local/lib/python3.11/dist-packages/sklearn/metrics/_classification.py:1565: UndefinedMetricWarning: Recall is ill-defined and being set to 0.0 in labels with no true samples. Use `zero_division` parameter to control this behavior.\n",
            "  _warn_prf(average, modifier, f\"{metric.capitalize()} is\", len(result))\n"
          ]
        },
        {
          "output_type": "display_data",
          "data": {
            "text/plain": [
              "<Figure size 800x500 with 1 Axes>"
            ],
            "image/png": "[encoded data removed]"
          },
          "metadata": {}
        },
        {
          "output_type": "display_data",
          "data": {
            "text/plain": [
              "<Figure size 600x400 with 2 Axes>"
            ],
            "image/png": "[encoded data removed]"
          },
          "metadata": {}
        }
      ]
    },
    {
      "cell_type": "markdown",
      "source": [
        "# Network Model"
      ],
      "metadata": {
        "id": "ABKnwOV16Kkd"
      }
    },
    {
      "cell_type": "markdown",
      "source": [
        "### Data Load"
      ],
      "metadata": {
        "id": "OKrDEozj6NS6"
      }
    },
    {
      "cell_type": "code",
      "source": [
        "!wget https://raw.githubusercontent.com/defcom17/NSL_KDD/master/KDDTrain+.txt\n",
        "!wget https://raw.githubusercontent.com/defcom17/NSL_KDD/master/KDDTest+.txt\n"
      ],
      "metadata": {
        "colab": {
          "base_uri": "https://localhost:8080/"
        },
        "id": "dNj8yor-6ZW6",
        "outputId": "ef64c5e2-8d8d-4b5c-cf8a-9a927c8f2d85"
      },
      "execution_count": 10,
      "outputs": [
        {
          "output_type": "stream",
          "name": "stdout",
          "text": [
            "--2025-04-30 08:47:07--  https://raw.githubusercontent.com/defcom17/NSL_KDD/master/KDDTrain+.txt\n",
            "Resolving raw.githubusercontent.com (raw.githubusercontent.com)... 185.199.108.133, 185.199.110.133, 185.199.109.133, ...\n",
            "Connecting to raw.githubusercontent.com (raw.githubusercontent.com)|185.199.108.133|:443... connected.\n",
            "HTTP request sent, awaiting response... 200 OK\n",
            "Length: 19109424 (18M) [text/plain]\n",
            "Saving to: ‘KDDTrain+.txt’\n",
            "\n",
            "KDDTrain+.txt       100%[===================>]  18.22M  39.8MB/s    in 0.5s    \n",
            "\n",
            "2025-04-30 08:47:10 (39.8 MB/s) - ‘KDDTrain+.txt’ saved [19109424/19109424]\n",
            "\n",
            "--2025-04-30 08:47:10--  https://raw.githubusercontent.com/defcom17/NSL_KDD/master/KDDTest+.txt\n",
            "Resolving raw.githubusercontent.com (raw.githubusercontent.com)... 185.199.108.133, 185.199.109.133, 185.199.110.133, ...\n",
            "Connecting to raw.githubusercontent.com (raw.githubusercontent.com)|185.199.108.133|:443... connected.\n",
            "HTTP request sent, awaiting response... 200 OK\n",
            "Length: 3441513 (3.3M) [text/plain]\n",
            "Saving to: ‘KDDTest+.txt’\n",
            "\n",
            "KDDTest+.txt          0%[                    ]  16.00K  --.-KB/s    in 0.004s  \n",
            "\n",
            "2025-04-30 08:47:12 (4.07 MB/s) - Read error at byte 16384/3441513 (Connection reset by peer). Retrying.\n",
            "\n",
            "--2025-04-30 08:47:13--  (try: 2)  https://raw.githubusercontent.com/defcom17/NSL_KDD/master/KDDTest+.txt\n",
            "Connecting to raw.githubusercontent.com (raw.githubusercontent.com)|185.199.108.133|:443... connected.\n",
            "HTTP request sent, awaiting response... 206 Partial Content\n",
            "Length: 3441513 (3.3M), 3425129 (3.3M) remaining [text/plain]\n",
            "Saving to: ‘KDDTest+.txt’\n",
            "\n",
            "KDDTest+.txt        100%[===================>]   3.28M  9.22MB/s    in 0.4s    \n",
            "\n",
            "2025-04-30 08:47:14 (9.22 MB/s) - ‘KDDTest+.txt’ saved [3441513/3441513]\n",
            "\n"
          ]
        }
      ]
    },
    {
      "cell_type": "code",
      "source": [
        "import pandas as pd\n",
        "col_names = [\"duration\",\"protocol_type\",\"service\",\"flag\",\"src_bytes\",\"dst_bytes\",\"land\",\"wrong_fragment\",\n",
        "             \"urgent\",\"hot\",\"num_failed_logins\",\"logged_in\",\"num_compromised\",\"root_shell\",\"su_attempted\",\n",
        "             \"num_root\",\"num_file_creations\",\"num_shells\",\"num_access_files\",\"num_outbound_cmds\",\n",
        "             \"is_host_login\",\"is_guest_login\",\"count\",\"srv_count\",\"serror_rate\",\"srv_serror_rate\",\n",
        "             \"rerror_rate\",\"srv_rerror_rate\",\"same_srv_rate\",\"diff_srv_rate\",\"srv_diff_host_rate\",\n",
        "             \"dst_host_count\",\"dst_host_srv_count\",\"dst_host_same_srv_rate\",\"dst_host_diff_srv_rate\",\n",
        "             \"dst_host_same_src_port_rate\",\"dst_host_srv_diff_host_rate\",\"dst_host_serror_rate\",\n",
        "             \"dst_host_srv_serror_rate\",\"dst_host_rerror_rate\",\"dst_host_srv_rerror_rate\",\"label\",\"difficulty\"]\n",
        "\n",
        "\n",
        "train_df = pd.read_csv('KDDTrain+.txt', names=col_names)\n",
        "test_df = pd.read_csv('KDDTest+.txt', names=col_names)\n",
        "\n",
        "train_df = train_df.drop(columns=['difficulty'])\n",
        "test_df = test_df.drop(columns=['difficulty'])\n",
        "\n",
        "print(train_df.shape)\n",
        "print(test_df.shape)\n"
      ],
      "metadata": {
        "colab": {
          "base_uri": "https://localhost:8080/"
        },
        "id": "I9sMNY6i6gHK",
        "outputId": "98832948-86b2-4d71-c309-5d0c9cbeef26"
      },
      "execution_count": 11,
      "outputs": [
        {
          "output_type": "stream",
          "name": "stdout",
          "text": [
            "(125973, 42)\n",
            "(22544, 42)\n"
          ]
        }
      ]
    },
    {
      "cell_type": "markdown",
      "source": [
        "### Binary Classification Setup"
      ],
      "metadata": {
        "id": "oPHhzwF36way"
      }
    },
    {
      "cell_type": "code",
      "source": [
        "train_df['label'] = train_df['label'].apply(lambda x: 0 if x == 'normal' else 1)\n",
        "test_df['label'] = test_df['label'].apply(lambda x: 0 if x == 'normal' else 1)\n",
        "\n",
        "print(train_df['label'].value_counts())\n",
        "print(test_df['label'].value_counts())\n"
      ],
      "metadata": {
        "colab": {
          "base_uri": "https://localhost:8080/"
        },
        "id": "Kn_lr08o6z7N",
        "outputId": "619b1a90-381c-42dd-d9fa-af341a8aae1a"
      },
      "execution_count": 12,
      "outputs": [
        {
          "output_type": "stream",
          "name": "stdout",
          "text": [
            "label\n",
            "0    67343\n",
            "1    58630\n",
            "Name: count, dtype: int64\n",
            "label\n",
            "1    12833\n",
            "0     9711\n",
            "Name: count, dtype: int64\n"
          ]
        }
      ]
    },
    {
      "cell_type": "markdown",
      "source": [
        "## Label Encoding"
      ],
      "metadata": {
        "id": "PhgzmHNY62K2"
      }
    },
    {
      "cell_type": "code",
      "source": [
        "from sklearn.preprocessing import LabelEncoder\n",
        "\n",
        "for col in ['protocol_type', 'service', 'flag']:\n",
        "    le = LabelEncoder()\n",
        "    train_df[col] = le.fit_transform(train_df[col])\n",
        "    test_df[col] = le.transform(test_df[col])\n"
      ],
      "metadata": {
        "id": "4cut8jW27NPb"
      },
      "execution_count": 13,
      "outputs": []
    },
    {
      "cell_type": "markdown",
      "source": [
        "## Scale Numerical Features"
      ],
      "metadata": {
        "id": "THIKdiG37EYI"
      }
    },
    {
      "cell_type": "code",
      "source": [
        "from sklearn.preprocessing import MinMaxScaler\n",
        "\n",
        "scaler = MinMaxScaler()\n",
        "\n",
        "X_train = scaler.fit_transform(train_df.drop('label', axis=1))\n",
        "y_train = train_df['label'].values\n",
        "\n",
        "X_test = scaler.transform(test_df.drop('label', axis=1))\n",
        "y_test = test_df['label'].values\n"
      ],
      "metadata": {
        "id": "ZVq79o0q70SM"
      },
      "execution_count": 14,
      "outputs": []
    },
    {
      "cell_type": "markdown",
      "source": [
        "### 1D CNN Model"
      ],
      "metadata": {
        "id": "Cx3nbDOq7R4-"
      }
    },
    {
      "cell_type": "code",
      "source": [
        "from tensorflow.keras.models import Sequential\n",
        "from tensorflow.keras.layers import Conv1D, MaxPooling1D, Flatten, Dense, Dropout, Reshape\n",
        "from tensorflow.keras.optimizers import Adam\n",
        "\n",
        "#input for CNN\n",
        "X_train_cnn = X_train.reshape(X_train.shape[0], X_train.shape[1], 1)\n",
        "X_test_cnn = X_test.reshape(X_test.shape[0], X_test.shape[1], 1)\n",
        "\n",
        "model = Sequential()\n",
        "model.add(Conv1D(32, 3, activation='relu', input_shape=(X_train_cnn.shape[1], 1)))\n",
        "model.add(MaxPooling1D(2))\n",
        "model.add(Conv1D(64, 3, activation='relu'))\n",
        "model.add(MaxPooling1D(2))\n",
        "model.add(Flatten())\n",
        "model.add(Dense(64, activation='relu'))\n",
        "model.add(Dropout(0.5))\n",
        "model.add(Dense(1, activation='sigmoid'))\n",
        "\n",
        "model.compile(optimizer=Adam(0.0005), loss='binary_crossentropy', metrics=['accuracy'])\n",
        "\n",
        "model.summary()\n"
      ],
      "metadata": {
        "colab": {
          "base_uri": "https://localhost:8080/",
          "height": 463
        },
        "id": "zbvPKEtv7S8A",
        "outputId": "8c8b6f9c-c8fa-46e3-fafb-e609c213e19e"
      },
      "execution_count": 15,
      "outputs": [
        {
          "output_type": "stream",
          "name": "stderr",
          "text": [
            "/usr/local/lib/python3.11/dist-packages/keras/src/layers/convolutional/base_conv.py:107: UserWarning: Do not pass an `input_shape`/`input_dim` argument to a layer. When using Sequential models, prefer using an `Input(shape)` object as the first layer in the model instead.\n",
            "  super().__init__(activity_regularizer=activity_regularizer, **kwargs)\n"
          ]
        },
        {
          "output_type": "display_data",
          "data": {
            "text/plain": [
              "\u001b[1mModel: \"sequential\"\u001b[0m\n"
            ],
            "text/html": [
              "<pre style=\"white-space:pre;overflow-x:auto;line-height:normal;font-family:Menlo,'DejaVu Sans Mono',consolas,'Courier New',monospace\"><span style=\"font-weight: bold\">Model: \"sequential\"</span>\n",
              "</pre>\n"
            ]
          },
          "metadata": {}
        },
        {
          "output_type": "display_data",
          "data": {
            "text/plain": [
              "┏━━━━━━━━━━━━━━━━━━━━━━━━━━━━━━━━━┳━━━━━━━━━━━━━━━━━━━━━━━━┳━━━━━━━━━━━━━━━┓\n",
              "┃\u001b[1m \u001b[0m\u001b[1mLayer (type)                   \u001b[0m\u001b[1m \u001b[0m┃\u001b[1m \u001b[0m\u001b[1mOutput Shape          \u001b[0m\u001b[1m \u001b[0m┃\u001b[1m \u001b[0m\u001b[1m      Param #\u001b[0m\u001b[1m \u001b[0m┃\n",
              "┡━━━━━━━━━━━━━━━━━━━━━━━━━━━━━━━━━╇━━━━━━━━━━━━━━━━━━━━━━━━╇━━━━━━━━━━━━━━━┩\n",
              "│ conv1d (\u001b[38;5;33mConv1D\u001b[0m)                 │ (\u001b[38;5;45mNone\u001b[0m, \u001b[38;5;34m39\u001b[0m, \u001b[38;5;34m32\u001b[0m)         │           \u001b[38;5;34m128\u001b[0m │\n",
              "├─────────────────────────────────┼────────────────────────┼───────────────┤\n",
              "│ max_pooling1d (\u001b[38;5;33mMaxPooling1D\u001b[0m)    │ (\u001b[38;5;45mNone\u001b[0m, \u001b[38;5;34m19\u001b[0m, \u001b[38;5;34m32\u001b[0m)         │             \u001b[38;5;34m0\u001b[0m │\n",
              "├─────────────────────────────────┼────────────────────────┼───────────────┤\n",
              "│ conv1d_1 (\u001b[38;5;33mConv1D\u001b[0m)               │ (\u001b[38;5;45mNone\u001b[0m, \u001b[38;5;34m17\u001b[0m, \u001b[38;5;34m64\u001b[0m)         │         \u001b[38;5;34m6,208\u001b[0m │\n",
              "├─────────────────────────────────┼────────────────────────┼───────────────┤\n",
              "│ max_pooling1d_1 (\u001b[38;5;33mMaxPooling1D\u001b[0m)  │ (\u001b[38;5;45mNone\u001b[0m, \u001b[38;5;34m8\u001b[0m, \u001b[38;5;34m64\u001b[0m)          │             \u001b[38;5;34m0\u001b[0m │\n",
              "├─────────────────────────────────┼────────────────────────┼───────────────┤\n",
              "│ flatten (\u001b[38;5;33mFlatten\u001b[0m)               │ (\u001b[38;5;45mNone\u001b[0m, \u001b[38;5;34m512\u001b[0m)            │             \u001b[38;5;34m0\u001b[0m │\n",
              "├─────────────────────────────────┼────────────────────────┼───────────────┤\n",
              "│ dense_1 (\u001b[38;5;33mDense\u001b[0m)                 │ (\u001b[38;5;45mNone\u001b[0m, \u001b[38;5;34m64\u001b[0m)             │        \u001b[38;5;34m32,832\u001b[0m │\n",
              "├─────────────────────────────────┼────────────────────────┼───────────────┤\n",
              "│ dropout (\u001b[38;5;33mDropout\u001b[0m)               │ (\u001b[38;5;45mNone\u001b[0m, \u001b[38;5;34m64\u001b[0m)             │             \u001b[38;5;34m0\u001b[0m │\n",
              "├─────────────────────────────────┼────────────────────────┼───────────────┤\n",
              "│ dense_2 (\u001b[38;5;33mDense\u001b[0m)                 │ (\u001b[38;5;45mNone\u001b[0m, \u001b[38;5;34m1\u001b[0m)              │            \u001b[38;5;34m65\u001b[0m │\n",
              "└─────────────────────────────────┴────────────────────────┴───────────────┘\n"
            ],
            "text/html": [
              "<pre style=\"white-space:pre;overflow-x:auto;line-height:normal;font-family:Menlo,'DejaVu Sans Mono',consolas,'Courier New',monospace\">┏━━━━━━━━━━━━━━━━━━━━━━━━━━━━━━━━━┳━━━━━━━━━━━━━━━━━━━━━━━━┳━━━━━━━━━━━━━━━┓\n",
              "┃<span style=\"font-weight: bold\"> Layer (type)                    </span>┃<span style=\"font-weight: bold\"> Output Shape           </span>┃<span style=\"font-weight: bold\">       Param # </span>┃\n",
              "┡━━━━━━━━━━━━━━━━━━━━━━━━━━━━━━━━━╇━━━━━━━━━━━━━━━━━━━━━━━━╇━━━━━━━━━━━━━━━┩\n",
              "│ conv1d (<span style=\"color: #0087ff; text-decoration-color: #0087ff\">Conv1D</span>)                 │ (<span style=\"color: #00d7ff; text-decoration-color: #00d7ff\">None</span>, <span style=\"color: #00af00; text-decoration-color: #00af00\">39</span>, <span style=\"color: #00af00; text-decoration-color: #00af00\">32</span>)         │           <span style=\"color: #00af00; text-decoration-color: #00af00\">128</span> │\n",
              "├─────────────────────────────────┼────────────────────────┼───────────────┤\n",
              "│ max_pooling1d (<span style=\"color: #0087ff; text-decoration-color: #0087ff\">MaxPooling1D</span>)    │ (<span style=\"color: #00d7ff; text-decoration-color: #00d7ff\">None</span>, <span style=\"color: #00af00; text-decoration-color: #00af00\">19</span>, <span style=\"color: #00af00; text-decoration-color: #00af00\">32</span>)         │             <span style=\"color: #00af00; text-decoration-color: #00af00\">0</span> │\n",
              "├─────────────────────────────────┼────────────────────────┼───────────────┤\n",
              "│ conv1d_1 (<span style=\"color: #0087ff; text-decoration-color: #0087ff\">Conv1D</span>)               │ (<span style=\"color: #00d7ff; text-decoration-color: #00d7ff\">None</span>, <span style=\"color: #00af00; text-decoration-color: #00af00\">17</span>, <span style=\"color: #00af00; text-decoration-color: #00af00\">64</span>)         │         <span style=\"color: #00af00; text-decoration-color: #00af00\">6,208</span> │\n",
              "├─────────────────────────────────┼────────────────────────┼───────────────┤\n",
              "│ max_pooling1d_1 (<span style=\"color: #0087ff; text-decoration-color: #0087ff\">MaxPooling1D</span>)  │ (<span style=\"color: #00d7ff; text-decoration-color: #00d7ff\">None</span>, <span style=\"color: #00af00; text-decoration-color: #00af00\">8</span>, <span style=\"color: #00af00; text-decoration-color: #00af00\">64</span>)          │             <span style=\"color: #00af00; text-decoration-color: #00af00\">0</span> │\n",
              "├─────────────────────────────────┼────────────────────────┼───────────────┤\n",
              "│ flatten (<span style=\"color: #0087ff; text-decoration-color: #0087ff\">Flatten</span>)               │ (<span style=\"color: #00d7ff; text-decoration-color: #00d7ff\">None</span>, <span style=\"color: #00af00; text-decoration-color: #00af00\">512</span>)            │             <span style=\"color: #00af00; text-decoration-color: #00af00\">0</span> │\n",
              "├─────────────────────────────────┼────────────────────────┼───────────────┤\n",
              "│ dense_1 (<span style=\"color: #0087ff; text-decoration-color: #0087ff\">Dense</span>)                 │ (<span style=\"color: #00d7ff; text-decoration-color: #00d7ff\">None</span>, <span style=\"color: #00af00; text-decoration-color: #00af00\">64</span>)             │        <span style=\"color: #00af00; text-decoration-color: #00af00\">32,832</span> │\n",
              "├─────────────────────────────────┼────────────────────────┼───────────────┤\n",
              "│ dropout (<span style=\"color: #0087ff; text-decoration-color: #0087ff\">Dropout</span>)               │ (<span style=\"color: #00d7ff; text-decoration-color: #00d7ff\">None</span>, <span style=\"color: #00af00; text-decoration-color: #00af00\">64</span>)             │             <span style=\"color: #00af00; text-decoration-color: #00af00\">0</span> │\n",
              "├─────────────────────────────────┼────────────────────────┼───────────────┤\n",
              "│ dense_2 (<span style=\"color: #0087ff; text-decoration-color: #0087ff\">Dense</span>)                 │ (<span style=\"color: #00d7ff; text-decoration-color: #00d7ff\">None</span>, <span style=\"color: #00af00; text-decoration-color: #00af00\">1</span>)              │            <span style=\"color: #00af00; text-decoration-color: #00af00\">65</span> │\n",
              "└─────────────────────────────────┴────────────────────────┴───────────────┘\n",
              "</pre>\n"
            ]
          },
          "metadata": {}
        },
        {
          "output_type": "display_data",
          "data": {
            "text/plain": [
              "\u001b[1m Total params: \u001b[0m\u001b[38;5;34m39,233\u001b[0m (153.25 KB)\n"
            ],
            "text/html": [
              "<pre style=\"white-space:pre;overflow-x:auto;line-height:normal;font-family:Menlo,'DejaVu Sans Mono',consolas,'Courier New',monospace\"><span style=\"font-weight: bold\"> Total params: </span><span style=\"color: #00af00; text-decoration-color: #00af00\">39,233</span> (153.25 KB)\n",
              "</pre>\n"
            ]
          },
          "metadata": {}
        },
        {
          "output_type": "display_data",
          "data": {
            "text/plain": [
              "\u001b[1m Trainable params: \u001b[0m\u001b[38;5;34m39,233\u001b[0m (153.25 KB)\n"
            ],
            "text/html": [
              "<pre style=\"white-space:pre;overflow-x:auto;line-height:normal;font-family:Menlo,'DejaVu Sans Mono',consolas,'Courier New',monospace\"><span style=\"font-weight: bold\"> Trainable params: </span><span style=\"color: #00af00; text-decoration-color: #00af00\">39,233</span> (153.25 KB)\n",
              "</pre>\n"
            ]
          },
          "metadata": {}
        },
        {
          "output_type": "display_data",
          "data": {
            "text/plain": [
              "\u001b[1m Non-trainable params: \u001b[0m\u001b[38;5;34m0\u001b[0m (0.00 B)\n"
            ],
            "text/html": [
              "<pre style=\"white-space:pre;overflow-x:auto;line-height:normal;font-family:Menlo,'DejaVu Sans Mono',consolas,'Courier New',monospace\"><span style=\"font-weight: bold\"> Non-trainable params: </span><span style=\"color: #00af00; text-decoration-color: #00af00\">0</span> (0.00 B)\n",
              "</pre>\n"
            ]
          },
          "metadata": {}
        }
      ]
    },
    {
      "cell_type": "markdown",
      "source": [
        "## Train the Model"
      ],
      "metadata": {
        "id": "AKh0cQ9M8Jsg"
      }
    },
    {
      "cell_type": "code",
      "source": [
        "history = model.fit(\n",
        "    X_train_cnn, y_train,\n",
        "    epochs=50,\n",
        "    batch_size=256,\n",
        "    validation_split=0.2,\n",
        "    shuffle=True,\n",
        "    verbose=1\n",
        ")\n"
      ],
      "metadata": {
        "colab": {
          "base_uri": "https://localhost:8080/"
        },
        "id": "_-nVIcls8QLE",
        "outputId": "e0aad4d9-0a5e-4bef-fb08-fe0722d0e6d7"
      },
      "execution_count": 16,
      "outputs": [
        {
          "output_type": "stream",
          "name": "stdout",
          "text": [
            "Epoch 1/50\n",
            "\u001b[1m394/394\u001b[0m \u001b[32m━━━━━━━━━━━━━━━━━━━━\u001b[0m\u001b[37m\u001b[0m \u001b[1m9s\u001b[0m 17ms/step - accuracy: 0.8998 - loss: 0.2877 - val_accuracy: 0.9639 - val_loss: 0.1037\n",
            "Epoch 2/50\n",
            "\u001b[1m394/394\u001b[0m \u001b[32m━━━━━━━━━━━━━━━━━━━━\u001b[0m\u001b[37m\u001b[0m \u001b[1m10s\u001b[0m 16ms/step - accuracy: 0.9649 - loss: 0.1046 - val_accuracy: 0.9709 - val_loss: 0.0825\n",
            "Epoch 3/50\n",
            "\u001b[1m394/394\u001b[0m \u001b[32m━━━━━━━━━━━━━━━━━━━━\u001b[0m\u001b[37m\u001b[0m \u001b[1m11s\u001b[0m 19ms/step - accuracy: 0.9701 - loss: 0.0861 - val_accuracy: 0.9715 - val_loss: 0.0713\n",
            "Epoch 4/50\n",
            "\u001b[1m394/394\u001b[0m \u001b[32m━━━━━━━━━━━━━━━━━━━━\u001b[0m\u001b[37m\u001b[0m \u001b[1m8s\u001b[0m 20ms/step - accuracy: 0.9724 - loss: 0.0724 - val_accuracy: 0.9730 - val_loss: 0.0623\n",
            "Epoch 5/50\n",
            "\u001b[1m394/394\u001b[0m \u001b[32m━━━━━━━━━━━━━━━━━━━━\u001b[0m\u001b[37m\u001b[0m \u001b[1m7s\u001b[0m 17ms/step - accuracy: 0.9732 - loss: 0.0672 - val_accuracy: 0.9773 - val_loss: 0.0550\n",
            "Epoch 6/50\n",
            "\u001b[1m394/394\u001b[0m \u001b[32m━━━━━━━━━━━━━━━━━━━━\u001b[0m\u001b[37m\u001b[0m \u001b[1m12s\u001b[0m 21ms/step - accuracy: 0.9749 - loss: 0.0601 - val_accuracy: 0.9804 - val_loss: 0.0530\n",
            "Epoch 7/50\n",
            "\u001b[1m394/394\u001b[0m \u001b[32m━━━━━━━━━━━━━━━━━━━━\u001b[0m\u001b[37m\u001b[0m \u001b[1m10s\u001b[0m 21ms/step - accuracy: 0.9764 - loss: 0.0579 - val_accuracy: 0.9786 - val_loss: 0.0486\n",
            "Epoch 8/50\n",
            "\u001b[1m394/394\u001b[0m \u001b[32m━━━━━━━━━━━━━━━━━━━━\u001b[0m\u001b[37m\u001b[0m \u001b[1m8s\u001b[0m 17ms/step - accuracy: 0.9777 - loss: 0.0543 - val_accuracy: 0.9753 - val_loss: 0.0510\n",
            "Epoch 9/50\n",
            "\u001b[1m394/394\u001b[0m \u001b[32m━━━━━━━━━━━━━━━━━━━━\u001b[0m\u001b[37m\u001b[0m \u001b[1m8s\u001b[0m 20ms/step - accuracy: 0.9783 - loss: 0.0535 - val_accuracy: 0.9844 - val_loss: 0.0435\n",
            "Epoch 10/50\n",
            "\u001b[1m394/394\u001b[0m \u001b[32m━━━━━━━━━━━━━━━━━━━━\u001b[0m\u001b[37m\u001b[0m \u001b[1m10s\u001b[0m 21ms/step - accuracy: 0.9797 - loss: 0.0490 - val_accuracy: 0.9850 - val_loss: 0.0419\n",
            "Epoch 11/50\n",
            "\u001b[1m394/394\u001b[0m \u001b[32m━━━━━━━━━━━━━━━━━━━━\u001b[0m\u001b[37m\u001b[0m \u001b[1m9s\u001b[0m 17ms/step - accuracy: 0.9809 - loss: 0.0459 - val_accuracy: 0.9846 - val_loss: 0.0403\n",
            "Epoch 12/50\n",
            "\u001b[1m394/394\u001b[0m \u001b[32m━━━━━━━━━━━━━━━━━━━━\u001b[0m\u001b[37m\u001b[0m \u001b[1m10s\u001b[0m 17ms/step - accuracy: 0.9827 - loss: 0.0432 - val_accuracy: 0.9842 - val_loss: 0.0390\n",
            "Epoch 13/50\n",
            "\u001b[1m394/394\u001b[0m \u001b[32m━━━━━━━━━━━━━━━━━━━━\u001b[0m\u001b[37m\u001b[0m \u001b[1m8s\u001b[0m 21ms/step - accuracy: 0.9836 - loss: 0.0420 - val_accuracy: 0.9852 - val_loss: 0.0375\n",
            "Epoch 14/50\n",
            "\u001b[1m394/394\u001b[0m \u001b[32m━━━━━━━━━━━━━━━━━━━━\u001b[0m\u001b[37m\u001b[0m \u001b[1m9s\u001b[0m 16ms/step - accuracy: 0.9835 - loss: 0.0389 - val_accuracy: 0.9859 - val_loss: 0.0363\n",
            "Epoch 15/50\n",
            "\u001b[1m394/394\u001b[0m \u001b[32m━━━━━━━━━━━━━━━━━━━━\u001b[0m\u001b[37m\u001b[0m \u001b[1m8s\u001b[0m 20ms/step - accuracy: 0.9844 - loss: 0.0396 - val_accuracy: 0.9886 - val_loss: 0.0333\n",
            "Epoch 16/50\n",
            "\u001b[1m394/394\u001b[0m \u001b[32m━━━━━━━━━━━━━━━━━━━━\u001b[0m\u001b[37m\u001b[0m \u001b[1m11s\u001b[0m 22ms/step - accuracy: 0.9851 - loss: 0.0385 - val_accuracy: 0.9882 - val_loss: 0.0330\n",
            "Epoch 17/50\n",
            "\u001b[1m394/394\u001b[0m \u001b[32m━━━━━━━━━━━━━━━━━━━━\u001b[0m\u001b[37m\u001b[0m \u001b[1m7s\u001b[0m 17ms/step - accuracy: 0.9850 - loss: 0.0362 - val_accuracy: 0.9882 - val_loss: 0.0326\n",
            "Epoch 18/50\n",
            "\u001b[1m394/394\u001b[0m \u001b[32m━━━━━━━━━━━━━━━━━━━━\u001b[0m\u001b[37m\u001b[0m \u001b[1m8s\u001b[0m 21ms/step - accuracy: 0.9863 - loss: 0.0352 - val_accuracy: 0.9892 - val_loss: 0.0291\n",
            "Epoch 19/50\n",
            "\u001b[1m394/394\u001b[0m \u001b[32m━━━━━━━━━━━━━━━━━━━━\u001b[0m\u001b[37m\u001b[0m \u001b[1m7s\u001b[0m 17ms/step - accuracy: 0.9864 - loss: 0.0335 - val_accuracy: 0.9908 - val_loss: 0.0277\n",
            "Epoch 20/50\n",
            "\u001b[1m394/394\u001b[0m \u001b[32m━━━━━━━━━━━━━━━━━━━━\u001b[0m\u001b[37m\u001b[0m \u001b[1m8s\u001b[0m 20ms/step - accuracy: 0.9889 - loss: 0.0318 - val_accuracy: 0.9924 - val_loss: 0.0272\n",
            "Epoch 21/50\n",
            "\u001b[1m394/394\u001b[0m \u001b[32m━━━━━━━━━━━━━━━━━━━━\u001b[0m\u001b[37m\u001b[0m \u001b[1m7s\u001b[0m 17ms/step - accuracy: 0.9892 - loss: 0.0310 - val_accuracy: 0.9929 - val_loss: 0.0255\n",
            "Epoch 22/50\n",
            "\u001b[1m394/394\u001b[0m \u001b[32m━━━━━━━━━━━━━━━━━━━━\u001b[0m\u001b[37m\u001b[0m \u001b[1m10s\u001b[0m 17ms/step - accuracy: 0.9893 - loss: 0.0309 - val_accuracy: 0.9923 - val_loss: 0.0250\n",
            "Epoch 23/50\n",
            "\u001b[1m394/394\u001b[0m \u001b[32m━━━━━━━━━━━━━━━━━━━━\u001b[0m\u001b[37m\u001b[0m \u001b[1m8s\u001b[0m 21ms/step - accuracy: 0.9895 - loss: 0.0300 - val_accuracy: 0.9932 - val_loss: 0.0249\n",
            "Epoch 24/50\n",
            "\u001b[1m394/394\u001b[0m \u001b[32m━━━━━━━━━━━━━━━━━━━━\u001b[0m\u001b[37m\u001b[0m \u001b[1m9s\u001b[0m 17ms/step - accuracy: 0.9902 - loss: 0.0270 - val_accuracy: 0.9938 - val_loss: 0.0229\n",
            "Epoch 25/50\n",
            "\u001b[1m394/394\u001b[0m \u001b[32m━━━━━━━━━━━━━━━━━━━━\u001b[0m\u001b[37m\u001b[0m \u001b[1m10s\u001b[0m 17ms/step - accuracy: 0.9911 - loss: 0.0272 - val_accuracy: 0.9934 - val_loss: 0.0232\n",
            "Epoch 26/50\n",
            "\u001b[1m394/394\u001b[0m \u001b[32m━━━━━━━━━━━━━━━━━━━━\u001b[0m\u001b[37m\u001b[0m \u001b[1m8s\u001b[0m 21ms/step - accuracy: 0.9914 - loss: 0.0271 - val_accuracy: 0.9941 - val_loss: 0.0218\n",
            "Epoch 27/50\n",
            "\u001b[1m394/394\u001b[0m \u001b[32m━━━━━━━━━━━━━━━━━━━━\u001b[0m\u001b[37m\u001b[0m \u001b[1m7s\u001b[0m 17ms/step - accuracy: 0.9913 - loss: 0.0273 - val_accuracy: 0.9938 - val_loss: 0.0221\n",
            "Epoch 28/50\n",
            "\u001b[1m394/394\u001b[0m \u001b[32m━━━━━━━━━━━━━━━━━━━━\u001b[0m\u001b[37m\u001b[0m \u001b[1m8s\u001b[0m 21ms/step - accuracy: 0.9921 - loss: 0.0253 - val_accuracy: 0.9939 - val_loss: 0.0223\n",
            "Epoch 29/50\n",
            "\u001b[1m394/394\u001b[0m \u001b[32m━━━━━━━━━━━━━━━━━━━━\u001b[0m\u001b[37m\u001b[0m \u001b[1m7s\u001b[0m 17ms/step - accuracy: 0.9913 - loss: 0.0254 - val_accuracy: 0.9941 - val_loss: 0.0213\n",
            "Epoch 30/50\n",
            "\u001b[1m394/394\u001b[0m \u001b[32m━━━━━━━━━━━━━━━━━━━━\u001b[0m\u001b[37m\u001b[0m \u001b[1m8s\u001b[0m 20ms/step - accuracy: 0.9921 - loss: 0.0253 - val_accuracy: 0.9940 - val_loss: 0.0206\n",
            "Epoch 31/50\n",
            "\u001b[1m394/394\u001b[0m \u001b[32m━━━━━━━━━━━━━━━━━━━━\u001b[0m\u001b[37m\u001b[0m \u001b[1m10s\u001b[0m 21ms/step - accuracy: 0.9921 - loss: 0.0246 - val_accuracy: 0.9936 - val_loss: 0.0204\n",
            "Epoch 32/50\n",
            "\u001b[1m394/394\u001b[0m \u001b[32m━━━━━━━━━━━━━━━━━━━━\u001b[0m\u001b[37m\u001b[0m \u001b[1m9s\u001b[0m 16ms/step - accuracy: 0.9922 - loss: 0.0246 - val_accuracy: 0.9944 - val_loss: 0.0196\n",
            "Epoch 33/50\n",
            "\u001b[1m394/394\u001b[0m \u001b[32m━━━━━━━━━━━━━━━━━━━━\u001b[0m\u001b[37m\u001b[0m \u001b[1m8s\u001b[0m 21ms/step - accuracy: 0.9919 - loss: 0.0238 - val_accuracy: 0.9944 - val_loss: 0.0184\n",
            "Epoch 34/50\n",
            "\u001b[1m394/394\u001b[0m \u001b[32m━━━━━━━━━━━━━━━━━━━━\u001b[0m\u001b[37m\u001b[0m \u001b[1m7s\u001b[0m 17ms/step - accuracy: 0.9919 - loss: 0.0241 - val_accuracy: 0.9944 - val_loss: 0.0189\n",
            "Epoch 35/50\n",
            "\u001b[1m394/394\u001b[0m \u001b[32m━━━━━━━━━━━━━━━━━━━━\u001b[0m\u001b[37m\u001b[0m \u001b[1m8s\u001b[0m 21ms/step - accuracy: 0.9924 - loss: 0.0235 - val_accuracy: 0.9948 - val_loss: 0.0189\n",
            "Epoch 36/50\n",
            "\u001b[1m394/394\u001b[0m \u001b[32m━━━━━━━━━━━━━━━━━━━━\u001b[0m\u001b[37m\u001b[0m \u001b[1m8s\u001b[0m 19ms/step - accuracy: 0.9924 - loss: 0.0239 - val_accuracy: 0.9942 - val_loss: 0.0207\n",
            "Epoch 37/50\n",
            "\u001b[1m394/394\u001b[0m \u001b[32m━━━━━━━━━━━━━━━━━━━━\u001b[0m\u001b[37m\u001b[0m \u001b[1m7s\u001b[0m 18ms/step - accuracy: 0.9929 - loss: 0.0220 - val_accuracy: 0.9938 - val_loss: 0.0186\n",
            "Epoch 38/50\n",
            "\u001b[1m394/394\u001b[0m \u001b[32m━━━━━━━━━━━━━━━━━━━━\u001b[0m\u001b[37m\u001b[0m \u001b[1m11s\u001b[0m 21ms/step - accuracy: 0.9924 - loss: 0.0226 - val_accuracy: 0.9940 - val_loss: 0.0184\n",
            "Epoch 39/50\n",
            "\u001b[1m394/394\u001b[0m \u001b[32m━━━━━━━━━━━━━━━━━━━━\u001b[0m\u001b[37m\u001b[0m \u001b[1m10s\u001b[0m 20ms/step - accuracy: 0.9933 - loss: 0.0221 - val_accuracy: 0.9939 - val_loss: 0.0192\n",
            "Epoch 40/50\n",
            "\u001b[1m394/394\u001b[0m \u001b[32m━━━━━━━━━━━━━━━━━━━━\u001b[0m\u001b[37m\u001b[0m \u001b[1m9s\u001b[0m 17ms/step - accuracy: 0.9928 - loss: 0.0226 - val_accuracy: 0.9941 - val_loss: 0.0184\n",
            "Epoch 41/50\n",
            "\u001b[1m394/394\u001b[0m \u001b[32m━━━━━━━━━━━━━━━━━━━━\u001b[0m\u001b[37m\u001b[0m \u001b[1m8s\u001b[0m 21ms/step - accuracy: 0.9931 - loss: 0.0213 - val_accuracy: 0.9943 - val_loss: 0.0180\n",
            "Epoch 42/50\n",
            "\u001b[1m394/394\u001b[0m \u001b[32m━━━━━━━━━━━━━━━━━━━━\u001b[0m\u001b[37m\u001b[0m \u001b[1m7s\u001b[0m 17ms/step - accuracy: 0.9928 - loss: 0.0221 - val_accuracy: 0.9943 - val_loss: 0.0183\n",
            "Epoch 43/50\n",
            "\u001b[1m394/394\u001b[0m \u001b[32m━━━━━━━━━━━━━━━━━━━━\u001b[0m\u001b[37m\u001b[0m \u001b[1m8s\u001b[0m 21ms/step - accuracy: 0.9932 - loss: 0.0209 - val_accuracy: 0.9948 - val_loss: 0.0181\n",
            "Epoch 44/50\n",
            "\u001b[1m394/394\u001b[0m \u001b[32m━━━━━━━━━━━━━━━━━━━━\u001b[0m\u001b[37m\u001b[0m \u001b[1m10s\u001b[0m 21ms/step - accuracy: 0.9932 - loss: 0.0208 - val_accuracy: 0.9943 - val_loss: 0.0184\n",
            "Epoch 45/50\n",
            "\u001b[1m394/394\u001b[0m \u001b[32m━━━━━━━━━━━━━━━━━━━━\u001b[0m\u001b[37m\u001b[0m \u001b[1m8s\u001b[0m 17ms/step - accuracy: 0.9927 - loss: 0.0217 - val_accuracy: 0.9947 - val_loss: 0.0167\n",
            "Epoch 46/50\n",
            "\u001b[1m394/394\u001b[0m \u001b[32m━━━━━━━━━━━━━━━━━━━━\u001b[0m\u001b[37m\u001b[0m \u001b[1m10s\u001b[0m 17ms/step - accuracy: 0.9935 - loss: 0.0209 - val_accuracy: 0.9948 - val_loss: 0.0178\n",
            "Epoch 47/50\n",
            "\u001b[1m394/394\u001b[0m \u001b[32m━━━━━━━━━━━━━━━━━━━━\u001b[0m\u001b[37m\u001b[0m \u001b[1m12s\u001b[0m 20ms/step - accuracy: 0.9933 - loss: 0.0202 - val_accuracy: 0.9950 - val_loss: 0.0168\n",
            "Epoch 48/50\n",
            "\u001b[1m394/394\u001b[0m \u001b[32m━━━━━━━━━━━━━━━━━━━━\u001b[0m\u001b[37m\u001b[0m \u001b[1m10s\u001b[0m 20ms/step - accuracy: 0.9927 - loss: 0.0218 - val_accuracy: 0.9950 - val_loss: 0.0171\n",
            "Epoch 49/50\n",
            "\u001b[1m394/394\u001b[0m \u001b[32m━━━━━━━━━━━━━━━━━━━━\u001b[0m\u001b[37m\u001b[0m \u001b[1m7s\u001b[0m 17ms/step - accuracy: 0.9936 - loss: 0.0207 - val_accuracy: 0.9943 - val_loss: 0.0198\n",
            "Epoch 50/50\n",
            "\u001b[1m394/394\u001b[0m \u001b[32m━━━━━━━━━━━━━━━━━━━━\u001b[0m\u001b[37m\u001b[0m \u001b[1m8s\u001b[0m 21ms/step - accuracy: 0.9937 - loss: 0.0203 - val_accuracy: 0.9951 - val_loss: 0.0170\n"
          ]
        }
      ]
    },
    {
      "cell_type": "markdown",
      "source": [
        "## Evaluate"
      ],
      "metadata": {
        "id": "RqWC9W978VVU"
      }
    },
    {
      "cell_type": "code",
      "source": [
        "from sklearn.metrics import classification_report, confusion_matrix, precision_score, recall_score, f1_score\n",
        "\n",
        "y_pred = (model.predict(X_test_cnn) > 0.5).astype(\"int32\")\n",
        "\n",
        "\n",
        "precision = precision_score(y_test, y_pred)\n",
        "recall = recall_score(y_test, y_pred)\n",
        "f1 = f1_score(y_test, y_pred)\n",
        "\n",
        "print(f\"\\n📊 Network 1D CNN Performance:\")\n",
        "print(f\"Precision: {precision:.4f}\")\n",
        "print(f\"Recall: {recall:.4f}\")\n",
        "print(f\"F1 Score: {f1:.4f}\")\n",
        "\n",
        "print(\"\\nConfusion Matrix:\")\n",
        "print(confusion_matrix(y_test, y_pred))\n",
        "\n",
        "print(\"\\nClassification Report:\")\n",
        "print(classification_report(y_test, y_pred, digits=4))\n"
      ],
      "metadata": {
        "colab": {
          "base_uri": "https://localhost:8080/"
        },
        "id": "EWMCLUq28aC3",
        "outputId": "79c45982-d082-4e06-c885-226e03807dc1"
      },
      "execution_count": 17,
      "outputs": [
        {
          "output_type": "stream",
          "name": "stdout",
          "text": [
            "\u001b[1m705/705\u001b[0m \u001b[32m━━━━━━━━━━━━━━━━━━━━\u001b[0m\u001b[37m\u001b[0m \u001b[1m1s\u001b[0m 2ms/step\n",
            "\n",
            "📊 Network 1D CNN Performance:\n",
            "Precision: 0.9676\n",
            "Recall: 0.6020\n",
            "F1 Score: 0.7422\n",
            "\n",
            "Confusion Matrix:\n",
            "[[9452  259]\n",
            " [5107 7726]]\n",
            "\n",
            "Classification Report:\n",
            "              precision    recall  f1-score   support\n",
            "\n",
            "           0     0.6492    0.9733    0.7789      9711\n",
            "           1     0.9676    0.6020    0.7422     12833\n",
            "\n",
            "    accuracy                         0.7620     22544\n",
            "   macro avg     0.8084    0.7877    0.7606     22544\n",
            "weighted avg     0.8304    0.7620    0.7580     22544\n",
            "\n"
          ]
        }
      ]
    },
    {
      "cell_type": "markdown",
      "source": [
        "#**Fusion**"
      ],
      "metadata": {
        "id": "3R58IytY8h5-"
      }
    },
    {
      "cell_type": "markdown",
      "source": [
        "##ISOT and NSL-KDD Dataset Test Sample Preparation"
      ],
      "metadata": {
        "id": "gKuIWgxW93gp"
      }
    },
    {
      "cell_type": "code",
      "source": [
        "# ISOT Web Interaction\n",
        "X_isot_test = X_seq_scaled[y_seq == 1]\n",
        "y_isot_test = y_seq[y_seq == 1]\n",
        "model_isot = deep_lstm_autoencoder\n",
        "\n",
        "# NSL-KDD\n",
        "X_nsl_test = X_test_cnn\n",
        "y_nsl_test = y_test\n",
        "model_nsl = model\n"
      ],
      "metadata": {
        "id": "MZTUd5Kw9-vy"
      },
      "execution_count": 18,
      "outputs": []
    },
    {
      "cell_type": "markdown",
      "source": [
        "## Meta Neural Network Fusion Model Construction and Evaluation\n"
      ],
      "metadata": {
        "id": "AprWxvS-9_jJ"
      }
    },
    {
      "cell_type": "code",
      "source": [
        "import tensorflow as tf\n",
        "from tensorflow.keras.models import Sequential\n",
        "from tensorflow.keras.layers import Dense, Dropout\n",
        "\n",
        "meta_nn = Sequential([\n",
        "    Dense(8, activation='relu', input_shape=(2,)),\n",
        "    Dropout(0.2),\n",
        "    Dense(4, activation='relu'),\n",
        "    Dense(1, activation='sigmoid')\n",
        "])\n",
        "\n",
        "meta_nn.compile(\n",
        "    optimizer=tf.keras.optimizers.Adam(learning_rate=0.001),\n",
        "    loss='binary_crossentropy',\n",
        "    metrics=['accuracy']\n",
        ")\n",
        "\n",
        "history = meta_nn.fit(\n",
        "    X_train_fusion, y_train_fusion,\n",
        "    epochs=50,\n",
        "    batch_size=32,\n",
        "    validation_split=0.2,\n",
        "    verbose=1,\n",
        "    shuffle=True\n",
        ")\n",
        "\n",
        "\n",
        "y_pred_proba_fusion = meta_nn.predict(X_test_fusion).flatten()\n",
        "y_pred_fusion = (y_pred_proba_fusion > 0.5).astype(int)\n",
        "\n",
        "\n",
        "from sklearn.metrics import classification_report, confusion_matrix, precision_score, recall_score, f1_score\n",
        "\n",
        "precision = precision_score(y_test_fusion, y_pred_fusion)\n",
        "recall = recall_score(y_test_fusion, y_pred_fusion)\n",
        "f1 = f1_score(y_test_fusion, y_pred_fusion)\n",
        "\n",
        "print(f\"\\n🚀 Meta Neural Network Fusion Performance:\")\n",
        "print(f\"Precision: {precision:.4f}\")\n",
        "print(f\"Recall: {recall:.4f}\")\n",
        "print(f\"F1 Score: {f1:.4f}\")\n"
      ],
      "metadata": {
        "id": "5gONlDKS-MTR",
        "colab": {
          "base_uri": "https://localhost:8080/",
          "height": 265
        },
        "outputId": "6b8f72d4-4ec2-4b61-b726-7e31f206bc7a"
      },
      "execution_count": 19,
      "outputs": [
        {
          "output_type": "stream",
          "name": "stderr",
          "text": [
            "/usr/local/lib/python3.11/dist-packages/keras/src/layers/core/dense.py:87: UserWarning: Do not pass an `input_shape`/`input_dim` argument to a layer. When using Sequential models, prefer using an `Input(shape)` object as the first layer in the model instead.\n",
            "  super().__init__(activity_regularizer=activity_regularizer, **kwargs)\n"
          ]
        },
        {
          "output_type": "error",
          "ename": "NameError",
          "evalue": "name 'X_train_fusion' is not defined",
          "traceback": [
            "\u001b[0;31m---------------------------------------------------------------------------\u001b[0m",
            "\u001b[0;31mNameError\u001b[0m                                 Traceback (most recent call last)",
            "\u001b[0;32m<ipython-input-19-6eea9df913ed>\u001b[0m in \u001b[0;36m<cell line: 0>\u001b[0;34m()\u001b[0m\n\u001b[1;32m     17\u001b[0m \u001b[0;34m\u001b[0m\u001b[0m\n\u001b[1;32m     18\u001b[0m history = meta_nn.fit(\n\u001b[0;32m---> 19\u001b[0;31m     \u001b[0mX_train_fusion\u001b[0m\u001b[0;34m,\u001b[0m \u001b[0my_train_fusion\u001b[0m\u001b[0;34m,\u001b[0m\u001b[0;34m\u001b[0m\u001b[0;34m\u001b[0m\u001b[0m\n\u001b[0m\u001b[1;32m     20\u001b[0m     \u001b[0mepochs\u001b[0m\u001b[0;34m=\u001b[0m\u001b[0;36m50\u001b[0m\u001b[0;34m,\u001b[0m\u001b[0;34m\u001b[0m\u001b[0;34m\u001b[0m\u001b[0m\n\u001b[1;32m     21\u001b[0m     \u001b[0mbatch_size\u001b[0m\u001b[0;34m=\u001b[0m\u001b[0;36m32\u001b[0m\u001b[0;34m,\u001b[0m\u001b[0;34m\u001b[0m\u001b[0;34m\u001b[0m\u001b[0m\n",
            "\u001b[0;31mNameError\u001b[0m: name 'X_train_fusion' is not defined"
          ]
        }
      ]
    },
    {
      "cell_type": "markdown",
      "source": [
        "## Attention-Based and Meta Neural Network Prediction Stacking for Fusion\n"
      ],
      "metadata": {
        "id": "j3i8n_35-QjH"
      }
    },
    {
      "cell_type": "code",
      "source": [
        "\n",
        "y_pred_proba_attention = attention_model.predict(X_test_fusion).flatten()\n",
        "y_pred_proba_meta_nn = meta_nn.predict(X_test_fusion).flatten()\n",
        "\n",
        "stacked_X = np.column_stack([y_pred_proba_attention, y_pred_proba_meta_nn])\n",
        "\n",
        "from sklearn.linear_model import LogisticRegression\n",
        "\n",
        "\n",
        "super_meta_model = LogisticRegression()\n",
        "super_meta_model.fit(stacked_X, y_test_fusion)\n",
        "\n",
        "\n",
        "y_pred_stacked = super_meta_model.predict(stacked_X)\n",
        "\n",
        "precision = precision_score(y_test_fusion, y_pred_stacked)\n",
        "recall = recall_score(y_test_fusion, y_pred_stacked)\n",
        "f1 = f1_score(y_test_fusion, y_pred_stacked)\n",
        "\n",
        "print(f\"\\n🚀 STACKED FUSION Performance:\")\n",
        "print(f\"Precision: {precision:.4f}\")\n",
        "print(f\"Recall: {recall:.4f}\")\n",
        "print(f\"F1 Score: {f1:.4f}\")\n"
      ],
      "metadata": {
        "id": "gm_NLo-V-S-H"
      },
      "execution_count": null,
      "outputs": []
    },
    {
      "cell_type": "markdown",
      "source": [
        "##Super Meta Neural Network Construction for Stacked Fusion Enhancement\n"
      ],
      "metadata": {
        "id": "HF22XW5q-VSd"
      }
    },
    {
      "cell_type": "code",
      "source": [
        "super_meta_nn = Sequential([\n",
        "    Dense(8, activation='relu', input_shape=(2,)),\n",
        "    Dropout(0.2),\n",
        "    Dense(4, activation='relu'),\n",
        "    Dense(1, activation='sigmoid')\n",
        "])\n",
        "\n",
        "super_meta_nn.compile(\n",
        "    optimizer=tf.keras.optimizers.Adam(learning_rate=0.001),\n",
        "    loss='binary_crossentropy',\n",
        "    metrics=['accuracy']\n",
        ")\n",
        "\n",
        "history_super_meta = super_meta_nn.fit(\n",
        "    stacked_X, y_test_fusion,\n",
        "    epochs=50,\n",
        "    batch_size=16,\n",
        "    validation_split=0.2,\n",
        "    verbose=1,\n",
        "    shuffle=True\n",
        ")\n",
        "\n",
        "y_pred_proba_super_meta = super_meta_nn.predict(stacked_X).flatten()\n",
        "y_pred_super_meta = (y_pred_proba_super_meta > 0.5).astype(int)\n",
        "\n",
        "precision = precision_score(y_test_fusion, y_pred_super_meta)\n",
        "recall = recall_score(y_test_fusion, y_pred_super_meta)\n",
        "f1 = f1_score(y_test_fusion, y_pred_super_meta)\n",
        "\n",
        "print(f\"\\n🚀 Super Meta Neural Net Performance:\")\n",
        "print(f\"Precision: {precision:.4f}\")\n",
        "print(f\"Recall: {recall:.4f}\")\n",
        "print(f\"F1 Score: {f1:.4f}\")\n"
      ],
      "metadata": {
        "id": "Sb6DgjMw-Zc_"
      },
      "execution_count": null,
      "outputs": []
    },
    {
      "cell_type": "markdown",
      "source": [
        "## *Weighted* Voting Mechanism Based on ISOT and NSL-KDD Scores\n"
      ],
      "metadata": {
        "id": "fMnl1L1G-bWh"
      }
    },
    {
      "cell_type": "code",
      "source": [
        "\n",
        "isot_test_scores = X_test_fusion[:, 0]\n",
        "nsl_test_scores = X_test_fusion[:, 1]\n",
        "\n",
        "y_pred_isot_test = (isot_test_scores > 0.5).astype(int)\n",
        "y_pred_nsl_test = (nsl_test_scores > 0.5).astype(int)\n",
        "\n",
        "weight_isot = 0.4\n",
        "weight_nsl = 0.6\n",
        "\n",
        "weighted_vote_score = (weight_isot * y_pred_isot_test) + (weight_nsl * y_pred_nsl_test)\n",
        "weighted_vote_proba = weighted_vote_score / (weight_isot + weight_nsl)\n",
        "\n",
        "print(f\"Weighted voting shape: {weighted_vote_proba.shape}\")\n"
      ],
      "metadata": {
        "id": "MkNXgKvJ-gAX"
      },
      "execution_count": null,
      "outputs": []
    },
    {
      "cell_type": "markdown",
      "source": [
        "##Feature Engineering for Ultimate Fusion: Combining Fused and Raw Scores\n"
      ],
      "metadata": {
        "id": "AI5k490F-i4v"
      }
    },
    {
      "cell_type": "code",
      "source": [
        "fusion_X_new = np.column_stack([\n",
        "    y_pred_proba_attention,\n",
        "    y_pred_proba_meta_nn,\n",
        "    weighted_vote_proba,\n",
        "    isot_test_scores,\n",
        "    nsl_test_scores\n",
        "])\n",
        "\n",
        "print(f\"Fusion X shape: {fusion_X_new.shape}\")\n",
        "\n",
        "fusion_y_new = y_test_fusion\n"
      ],
      "metadata": {
        "id": "gDeQxgM8-nRR"
      },
      "execution_count": null,
      "outputs": []
    },
    {
      "cell_type": "markdown",
      "source": [
        "##Ultimate Fusion Model Training Using LightGBM with Stratified Cross-Validation\n"
      ],
      "metadata": {
        "id": "c0g-HXuk-qRJ"
      }
    },
    {
      "cell_type": "code",
      "source": [
        "import lightgbm as lgb\n",
        "from sklearn.model_selection import StratifiedKFold\n",
        "from sklearn.metrics import f1_score\n",
        "\n",
        "skf = StratifiedKFold(n_splits=5, shuffle=True, random_state=42)\n",
        "\n",
        "best_f1 = 0\n",
        "best_model = None\n",
        "\n",
        "for fold, (train_idx, val_idx) in enumerate(skf.split(fusion_X_new, fusion_y_new)):\n",
        "    X_train, X_val = fusion_X_new[train_idx], fusion_X_new[val_idx]\n",
        "    y_train, y_val = fusion_y_new[train_idx], fusion_y_new[val_idx]\n",
        "\n",
        "    model = lgb.LGBMClassifier(\n",
        "        learning_rate=0.01,\n",
        "        max_depth=4,\n",
        "        n_estimators=500,\n",
        "        num_leaves=16,\n",
        "        boosting_type='gbdt',\n",
        "        random_state=42\n",
        "    )\n",
        "\n",
        "    model.fit(\n",
        "        X_train, y_train,\n",
        "        eval_set=[(X_val, y_val)],\n",
        "        callbacks=[\n",
        "            lgb.early_stopping(stopping_rounds=50),\n",
        "            lgb.log_evaluation(period=50)\n",
        "        ]\n",
        "    )\n",
        "\n",
        "    y_pred_val = model.predict(X_val)\n",
        "    f1 = f1_score(y_val, y_pred_val)\n",
        "\n",
        "    print(f\"Fold {fold+1} F1 Score: {f1:.4f}\")\n",
        "\n",
        "    if f1 > best_f1:\n",
        "        best_f1 = f1\n",
        "        best_model = model\n",
        "\n",
        "print(f\"\\n🚀 Best F1 across folds: {best_f1:.4f}\")\n"
      ],
      "metadata": {
        "id": "Eq3At3W8-uqS"
      },
      "execution_count": null,
      "outputs": []
    },
    {
      "cell_type": "markdown",
      "source": [
        "##Feature Importance Analysis of Ultimate Fusion Model\n"
      ],
      "metadata": {
        "id": "WkuOd66M-xHn"
      }
    },
    {
      "cell_type": "code",
      "source": [
        "import matplotlib.pyplot as plt\n",
        "import numpy as np\n",
        "\n",
        "importance = best_model.feature_importances_\n",
        "feature_names = ['Attention Fusion', 'Meta Neural Net', 'Weighted Voting', 'Raw ISOT', 'Raw NSL CNN']\n",
        "\n",
        "indices = np.argsort(importance)[::-1]\n",
        "\n",
        "plt.figure(figsize=(10, 6))\n",
        "plt.bar(range(len(importance)), importance[indices], align='center', color='skyblue')\n",
        "plt.xticks(range(len(importance)), [feature_names[i] for i in indices], rotation=45)\n",
        "plt.title('Feature Importance - Ultimate Fusion (LightGBM)', fontsize=14)\n",
        "plt.xlabel('Features', fontsize=12)\n",
        "plt.ylabel('Importance (Gain)', fontsize=12)\n",
        "plt.grid(axis='y')\n",
        "plt.tight_layout()\n",
        "plt.show()\n"
      ],
      "metadata": {
        "id": "cCfhUYV3-2NN"
      },
      "execution_count": null,
      "outputs": []
    }
  ]
}